{
 "cells": [
  {
   "cell_type": "markdown",
   "metadata": {},
   "source": [
    "# Task 2: Single Qubit gates \n",
    "\n",
    "\n",
    "## 2.1 \n",
    "\n",
    "\n",
    "On the Bloch Sphere, starting from the top at $\\ket{0}$, draw out the path traced by the qubit from the following gates \n",
    "\n",
    "H, Z, H \n",
    "\n",
    "\n",
    "\n",
    "Where H is the Hadamard gate, Z is the 180 $\\degree$ rotation around the Z-axis of the Bloch sphere and X is the not gate \n",
    "\n",
    "## 2.2 \n",
    "\n",
    "Using matrix multiplication, writing out the statevector, or otherwise, show that\n",
    "\n",
    "$$ HZH = X $$\n",
    "\n",
    "If 2.1 is done correctly this should verify your result. \n",
    " \n",
    " ## 2.2\n",
    "\n",
    " All single qubit gates can be described as unitary operators in the following form \n",
    " \n",
    "$$\n",
    "U(\\theta, \\phi, \\lambda) = \\begin{bmatrix} \\cos(\\theta/2) & e^{i\\lambda}\\sin(\\theta/2) \\\\ e^{i\\theta}\\sin(\\theta/2) & e^{i(\\phi + \\lambda)} \\end{bmatrix} \n",
    "$$\n",
    "\n",
    "By choosing suitable values of $(\\theta, \\phi, \\lambda)$ \n",
    "\n",
    "- X\n",
    "- Y \n",
    "- Z \n",
    "- H \n",
    "\n",
    "\n"
   ]
  }
 ],
 "metadata": {
  "kernelspec": {
   "display_name": "Python 3.8.5 ('base')",
   "language": "python",
   "name": "python3"
  },
  "language_info": {
   "name": "python",
   "version": "3.8.5"
  },
  "orig_nbformat": 4,
  "vscode": {
   "interpreter": {
    "hash": "ad2bdc8ecc057115af97d19610ffacc2b4e99fae6737bb82f5d7fb13d2f2c186"
   }
  }
 },
 "nbformat": 4,
 "nbformat_minor": 2
}
