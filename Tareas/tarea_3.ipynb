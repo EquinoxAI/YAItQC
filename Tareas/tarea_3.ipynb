{
 "cells": [
  {
   "cell_type": "markdown",
   "metadata": {},
   "source": [
    "# Task 3: Multiple Qubits & Quantum Circuits \n"
   ]
  },
  {
   "cell_type": "code",
   "execution_count": 2,
   "metadata": {},
   "outputs": [],
   "source": [
    "from qiskit import QuantumCircuit"
   ]
  },
  {
   "cell_type": "markdown",
   "metadata": {},
   "source": [
    "## 3.1 Basic Binary \n",
    "\n",
    "Represent the following numbers in binary \n",
    "\n",
    "- 4\n",
    "- 7 \n",
    "- 12\n",
    "\n",
    "Represent the following numbers in decimal (or a base of your choice)\n",
    "\n",
    "- 00101\n",
    "- 1010\n",
    "- 110\n",
    "\n",
    "You can check you answers with python by using bin(integer) or int(0b*binary*) and comparing your answers. "
   ]
  },
  {
   "cell_type": "markdown",
   "metadata": {},
   "source": [
    "\n",
    "\n",
    "# 3.2 To entangle or not to entangle \n",
    "\n",
    "\n",
    "Which of the following are entangled states? \n",
    "\n",
    "- $ \\psi = \\frac{1}{\\sqrt{2}}\\ket{00} + \\ket{01}$\n",
    "- $ \\psi = \\frac{1}{2}\\ket{00} + \\ket{01} + \\ket{10} + \\ket{11}$\n",
    "\n",
    "## 3.2 The Bell States\n",
    "\n",
    "The 4 Bell States are \n",
    "\n",
    "$$ \\ket{\\Phi^+} = \\frac{1}{2} \\left( \\ket{00} + \\ket{11} \\right) $$\n",
    "$$ \\ket{\\Phi^-} = \\frac{1}{2} \\left( \\ket{00} - \\ket{11} \\right) $$\n",
    "$$ \\ket{\\Psi^+} = \\frac{1}{2} \\left( \\ket{01} + \\ket{10} \\right) $$\n",
    "$$ \\ket{\\Psi^-} = \\frac{1}{2} \\left( \\ket{01} - \\ket{01} \\right) $$\n",
    "\n",
    "Verify that they are orthogonal by computing \n",
    "\n",
    "- $\\braket{\\Phi^+ | \\Phi^-}$ \n",
    "- $\\braket{\\Psi^+ | \\Psi^-}$ \n",
    "- $\\braket{\\Phi^+ | \\Psi^-}$ \n",
    "\n",
    "Hint 1: If you need a refresher on the inner product, check out Class 2\n",
    "\n",
    "Hint 2: There are no complex numbers here so you can replace all the $\\ket{ab}$ with $\\bra{ab}$ for all the $\\braket{ab | cd}$.\n",
    "\n",
    "## 3.3 Circuit to generate the Bell states\n",
    "\n",
    "We can generate the Bell States from the computational states using the following circuit\n",
    "\n",
    "\n",
    "\n",
    "\n"
   ]
  },
  {
   "cell_type": "code",
   "execution_count": 3,
   "metadata": {},
   "outputs": [
    {
     "data": {
      "image/svg+xml": "<?xml version=\"1.0\" encoding=\"utf-8\" standalone=\"no\"?>\r\n<!DOCTYPE svg PUBLIC \"-//W3C//DTD SVG 1.1//EN\"\r\n  \"http://www.w3.org/Graphics/SVG/1.1/DTD/svg11.dtd\">\r\n<!-- Created with matplotlib (https://matplotlib.org/) -->\r\n<svg height=\"123.4824pt\" version=\"1.1\" viewBox=\"0 0 170.573272 123.4824\" width=\"170.573272pt\" xmlns=\"http://www.w3.org/2000/svg\" xmlns:xlink=\"http://www.w3.org/1999/xlink\">\r\n <metadata>\r\n  <rdf:RDF xmlns:cc=\"http://creativecommons.org/ns#\" xmlns:dc=\"http://purl.org/dc/elements/1.1/\" xmlns:rdf=\"http://www.w3.org/1999/02/22-rdf-syntax-ns#\">\r\n   <cc:Work>\r\n    <dc:type rdf:resource=\"http://purl.org/dc/dcmitype/StillImage\"/>\r\n    <dc:date>2022-07-28T18:01:25.244551</dc:date>\r\n    <dc:format>image/svg+xml</dc:format>\r\n    <dc:creator>\r\n     <cc:Agent>\r\n      <dc:title>Matplotlib v3.3.2, https://matplotlib.org/</dc:title>\r\n     </cc:Agent>\r\n    </dc:creator>\r\n   </cc:Work>\r\n  </rdf:RDF>\r\n </metadata>\r\n <defs>\r\n  <style type=\"text/css\">*{stroke-linecap:butt;stroke-linejoin:round;}</style>\r\n </defs>\r\n <g id=\"figure_1\">\r\n  <g id=\"patch_1\">\r\n   <path d=\"M 0 123.4824 \r\nL 170.573272 123.4824 \r\nL 170.573272 0 \r\nL 0 0 \r\nz\r\n\" style=\"fill:#ffffff;\"/>\r\n  </g>\r\n  <g id=\"axes_1\">\r\n   <g id=\"line2d_1\">\r\n    <path clip-path=\"url(#p80005566e5)\" d=\"M 63.381072 43.5608 \r\nL 158.828172 43.5608 \r\n\" style=\"fill:none;stroke:#000000;stroke-linecap:square;stroke-width:2;\"/>\r\n   </g>\r\n   <g id=\"line2d_2\">\r\n    <path clip-path=\"url(#p80005566e5)\" d=\"M 63.381072 89.0118 \r\nL 158.828172 89.0118 \r\n\" style=\"fill:none;stroke:#000000;stroke-linecap:square;stroke-width:2;\"/>\r\n   </g>\r\n   <g id=\"line2d_3\">\r\n    <path clip-path=\"url(#p80005566e5)\" d=\"M 133.375612 89.0118 \r\nL 133.375612 43.5608 \r\n\" style=\"fill:none;stroke:#6fa4ff;stroke-linecap:square;stroke-width:2;\"/>\r\n   </g>\r\n   <g id=\"patch_2\">\r\n    <path clip-path=\"url(#p80005566e5)\" d=\"M 73.153037 58.332375 \r\nL 102.696187 58.332375 \r\nL 102.696187 28.789225 \r\nL 73.153037 28.789225 \r\nz\r\n\" style=\"fill:#6fa4ff;stroke:#6fa4ff;stroke-linejoin:miter;stroke-width:1.5;\"/>\r\n   </g>\r\n   <g id=\"patch_3\">\r\n    <path clip-path=\"url(#p80005566e5)\" d=\"M 133.375612 47.992273 \r\nC 134.550852 47.992273 135.678116 47.525345 136.509136 46.694324 \r\nC 137.340157 45.863304 137.807085 44.73604 137.807085 43.5608 \r\nC 137.807085 42.38556 137.340157 41.258296 136.509136 40.427276 \r\nC 135.678116 39.596255 134.550852 39.129328 133.375612 39.129328 \r\nC 132.200372 39.129328 131.073108 39.596255 130.242088 40.427276 \r\nC 129.411067 41.258296 128.94414 42.38556 128.94414 43.5608 \r\nC 128.94414 44.73604 129.411067 45.863304 130.242088 46.694324 \r\nC 131.073108 47.525345 132.200372 47.992273 133.375612 47.992273 \r\nz\r\n\" style=\"fill:#6fa4ff;stroke:#6fa4ff;stroke-linejoin:miter;stroke-width:1.5;\"/>\r\n   </g>\r\n   <g id=\"patch_4\">\r\n    <path clip-path=\"url(#p80005566e5)\" d=\"M 133.375612 99.351903 \r\nC 136.117839 99.351903 138.748121 98.262404 140.687169 96.323357 \r\nC 142.626216 94.384309 143.715715 91.754027 143.715715 89.0118 \r\nC 143.715715 86.269573 142.626216 83.639291 140.687169 81.700243 \r\nC 138.748121 79.761196 136.117839 78.671698 133.375612 78.671698 \r\nC 130.633385 78.671698 128.003103 79.761196 126.064055 81.700243 \r\nC 124.125008 83.639291 123.03551 86.269573 123.03551 89.0118 \r\nC 123.03551 91.754027 124.125008 94.384309 126.064055 96.323357 \r\nC 128.003103 98.262404 130.633385 99.351903 133.375612 99.351903 \r\nz\r\n\" style=\"fill:#6fa4ff;stroke:#6fa4ff;stroke-linejoin:miter;stroke-width:2;\"/>\r\n   </g>\r\n   <g id=\"line2d_4\">\r\n    <path clip-path=\"url(#p80005566e5)\" d=\"M 133.375612 94.92043 \r\nL 133.375612 83.10317 \r\n\" style=\"fill:none;stroke:#ffffff;stroke-linecap:square;stroke-width:2;\"/>\r\n   </g>\r\n   <g id=\"line2d_5\">\r\n    <path clip-path=\"url(#p80005566e5)\" d=\"M 127.466982 89.0118 \r\nL 139.284242 89.0118 \r\n\" style=\"fill:none;stroke:#ffffff;stroke-linecap:square;stroke-width:2;\"/>\r\n   </g>\r\n   <g id=\"text_1\">\r\n    <g clip-path=\"url(#p80005566e5)\">\r\n     <!-- H -->\r\n     <g transform=\"translate(83.036409 47.147988)scale(0.13 -0.13)\">\r\n      <defs>\r\n       <path d=\"M 9.8125 72.90625 \r\nL 19.671875 72.90625 \r\nL 19.671875 43.015625 \r\nL 55.515625 43.015625 \r\nL 55.515625 72.90625 \r\nL 65.375 72.90625 \r\nL 65.375 0 \r\nL 55.515625 0 \r\nL 55.515625 34.71875 \r\nL 19.671875 34.71875 \r\nL 19.671875 0 \r\nL 9.8125 0 \r\nz\r\n\" id=\"DejaVuSans-72\"/>\r\n      </defs>\r\n      <use xlink:href=\"#DejaVuSans-72\"/>\r\n     </g>\r\n    </g>\r\n   </g>\r\n   <g id=\"text_2\">\r\n    <g clip-path=\"url(#p80005566e5)\">\r\n     <!-- ${q}_{0}$ -->\r\n     <g transform=\"translate(36.253372 48.011777)scale(0.1625 -0.1625)\">\r\n      <defs>\r\n       <path d=\"M 41.703125 8.203125 \r\nQ 38.09375 3.46875 33.171875 1.015625 \r\nQ 28.265625 -1.421875 22.3125 -1.421875 \r\nQ 14.015625 -1.421875 9.296875 4.171875 \r\nQ 4.59375 9.765625 4.59375 19.578125 \r\nQ 4.59375 27.484375 7.5 34.859375 \r\nQ 10.40625 42.234375 15.828125 48.09375 \r\nQ 19.34375 51.90625 23.90625 53.953125 \r\nQ 28.46875 56 33.5 56 \r\nQ 39.546875 56 43.453125 53.609375 \r\nQ 47.359375 51.21875 49.125 46.390625 \r\nL 50.6875 54.59375 \r\nL 59.71875 54.59375 \r\nL 45.125 -20.609375 \r\nL 36.078125 -20.609375 \r\nz\r\nM 13.921875 20.90625 \r\nQ 13.921875 13.671875 16.9375 9.890625 \r\nQ 19.96875 6.109375 25.6875 6.109375 \r\nQ 34.1875 6.109375 40.1875 14.234375 \r\nQ 46.1875 22.359375 46.1875 33.984375 \r\nQ 46.1875 41.015625 43.078125 44.75 \r\nQ 39.984375 48.484375 34.1875 48.484375 \r\nQ 29.9375 48.484375 26.3125 46.5 \r\nQ 22.703125 44.53125 20.015625 40.71875 \r\nQ 17.1875 36.71875 15.546875 31.34375 \r\nQ 13.921875 25.984375 13.921875 20.90625 \r\nz\r\n\" id=\"DejaVuSans-Oblique-113\"/>\r\n       <path d=\"M 31.78125 66.40625 \r\nQ 24.171875 66.40625 20.328125 58.90625 \r\nQ 16.5 51.421875 16.5 36.375 \r\nQ 16.5 21.390625 20.328125 13.890625 \r\nQ 24.171875 6.390625 31.78125 6.390625 \r\nQ 39.453125 6.390625 43.28125 13.890625 \r\nQ 47.125 21.390625 47.125 36.375 \r\nQ 47.125 51.421875 43.28125 58.90625 \r\nQ 39.453125 66.40625 31.78125 66.40625 \r\nz\r\nM 31.78125 74.21875 \r\nQ 44.046875 74.21875 50.515625 64.515625 \r\nQ 56.984375 54.828125 56.984375 36.375 \r\nQ 56.984375 17.96875 50.515625 8.265625 \r\nQ 44.046875 -1.421875 31.78125 -1.421875 \r\nQ 19.53125 -1.421875 13.0625 8.265625 \r\nQ 6.59375 17.96875 6.59375 36.375 \r\nQ 6.59375 54.828125 13.0625 64.515625 \r\nQ 19.53125 74.21875 31.78125 74.21875 \r\nz\r\n\" id=\"DejaVuSans-48\"/>\r\n      </defs>\r\n      <use xlink:href=\"#DejaVuSans-Oblique-113\"/>\r\n      <use transform=\"translate(63.476562 -16.40625)scale(0.7)\" xlink:href=\"#DejaVuSans-48\"/>\r\n     </g>\r\n    </g>\r\n   </g>\r\n   <g id=\"text_3\">\r\n    <g clip-path=\"url(#p80005566e5)\">\r\n     <!-- ${q}_{1}$ -->\r\n     <g transform=\"translate(36.253372 93.462777)scale(0.1625 -0.1625)\">\r\n      <defs>\r\n       <path d=\"M 12.40625 8.296875 \r\nL 28.515625 8.296875 \r\nL 28.515625 63.921875 \r\nL 10.984375 60.40625 \r\nL 10.984375 69.390625 \r\nL 28.421875 72.90625 \r\nL 38.28125 72.90625 \r\nL 38.28125 8.296875 \r\nL 54.390625 8.296875 \r\nL 54.390625 0 \r\nL 12.40625 0 \r\nz\r\n\" id=\"DejaVuSans-49\"/>\r\n      </defs>\r\n      <use xlink:href=\"#DejaVuSans-Oblique-113\"/>\r\n      <use transform=\"translate(63.476562 -16.40625)scale(0.7)\" xlink:href=\"#DejaVuSans-49\"/>\r\n     </g>\r\n    </g>\r\n   </g>\r\n  </g>\r\n </g>\r\n <defs>\r\n  <clipPath id=\"p80005566e5\">\r\n   <rect height=\"109.0824\" width=\"156.173272\" x=\"7.2\" y=\"7.2\"/>\r\n  </clipPath>\r\n </defs>\r\n</svg>\r\n",
      "text/plain": [
       "<Figure size 206.852x144.48 with 1 Axes>"
      ]
     },
     "execution_count": 3,
     "metadata": {},
     "output_type": "execute_result"
    }
   ],
   "source": [
    "circuit = QuantumCircuit(2)\n",
    "\n",
    "circuit.h(0)\n",
    "circuit.cx(0,1)\n",
    "\n",
    "circuit.draw(output= 'mpl')"
   ]
  },
  {
   "cell_type": "markdown",
   "metadata": {},
   "source": [
    "By changing the states of $q_0$ & $q_1$ from 0 to 1 we can get all the Bell States.\n",
    "\n",
    "For example, if we start with both $q_0$ & $q_1$ in the state $\\ket{0}$ we can generate $\\ket{\\Phi^+}$. \n",
    "\n",
    "Applying the Hadamard gate on $q_0$ changes it from $\\ket{0}$ to the state $\\ket{+}$\n",
    "$$\n",
    "\\ket{00} \\rightarrow \\ket{0+}\n",
    "$$\n",
    "\n",
    "The controlled-not (CNOT), with $q_0$ as control and $q_1$ as target then changes $q_1$ to $\\ket{1}$ if $q_0$ is $\\ket{1}$. \n",
    "\n",
    "We can expand $\\ket{0+}$ and consider what happens to $\\ket{00}$ and $\\ket{01}$ when the CNOT is applied. \n",
    "\n",
    "$$ \\ket{0+} = \\frac{1}{\\sqrt{2}}(\\ket{00} + \\ket{01}) $$\n",
    "\n",
    "\n",
    "$$ \\ket{00} \\rightarrow \\ket{00} $$\n",
    "\n",
    "$$ \\ket{01} \\rightarrow \\ket{11} $$\n",
    "\n",
    "This gives us \n",
    "\n",
    "$$\n",
    "\\ket{0+} \\rightarrow \\frac{1}{\\sqrt{2}}(\\ket{00} + \\ket{11}) = \\ket{\\Phi^+}\n",
    "$$\n",
    "\n",
    "\n",
    "By changing the input to $\\ket{\\psi}$ and running the circuit, which Bell State is generated by \n",
    "\n",
    "\n",
    "- $q_0 = 1$, $q_0 = 1$, $\\psi = \\ket{01}$\n",
    "\n",
    "        - Hint: applying H to $\\ket{1}$ changes it to $\\ket{-}$\n",
    "- $q_0 = 0$, $q_1 = 1$, $\\psi = \\ket{10}$\n",
    "\n",
    "        - Hint: applying the CNOT to $\\ket{1}$ changes it to $\\ket{0}$ if $q_0$ is $\\ket{1}$\n",
    "- $q_0 = 1$, $q_1 = 1$, $\\psi = \\ket{11}$\n",
    "\n",
    "\n",
    "> Note the qubit order is reversed between the qubits and their position in the state (i.e. $q_0$ is the qubit on the right $\\ket{q_1q_0}$)\n"
   ]
  },
  {
   "cell_type": "code",
   "execution_count": null,
   "metadata": {},
   "outputs": [],
   "source": []
  }
 ],
 "metadata": {
  "kernelspec": {
   "display_name": "Python 3.8.5 ('base')",
   "language": "python",
   "name": "python3"
  },
  "language_info": {
   "codemirror_mode": {
    "name": "ipython",
    "version": 3
   },
   "file_extension": ".py",
   "mimetype": "text/x-python",
   "name": "python",
   "nbconvert_exporter": "python",
   "pygments_lexer": "ipython3",
   "version": "3.8.5"
  },
  "orig_nbformat": 4,
  "vscode": {
   "interpreter": {
    "hash": "ad2bdc8ecc057115af97d19610ffacc2b4e99fae6737bb82f5d7fb13d2f2c186"
   }
  }
 },
 "nbformat": 4,
 "nbformat_minor": 2
}
