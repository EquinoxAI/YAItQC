{
 "cells": [
  {
   "cell_type": "markdown",
   "metadata": {},
   "source": [
    "# Acknowledgements\n",
    "\n",
    "This educational text simply builds upon the inspiring work of a large number of visionaries. In addition, there are many great minds whose generosity in sharing their insights facilitated much of t`his work. It has been a great honour and privilege to have been supported in this endeavour. As an expression of gratitude, what follows is, in no particular order, a list of thanks:\n",
    "\n",
    "\n",
    "Thanking Eric (Passawis) for his grammatical corrections to chapters 1,2,3... as well as his encouraging feedback.\n",
    "\n",
    "Thanking Cris Diaz for his invaluable GitHub support\n",
    "\n",
    "For his excellent feedback on chapter 1, I would like to thank Ivan Arie De Jesus Caballero Simbaqueba.\n",
    "\n",
    "For some design suggestions, thanks to Carla Juliana Acosta Zamudio.\n",
    "\n",
    "As my first student who put up with me rambling through the first two chapters, I'd like to thank Favio Acosta "
   ]
  }
 ],
 "metadata": {
  "interpreter": {
   "hash": "b3ba2566441a7c06988d0923437866b63cedc61552a5af99d1f4fb67d367b25f"
  },
  "kernelspec": {
   "display_name": "Python 3.8.5 ('base')",
   "language": "python",
   "name": "python3"
  },
  "language_info": {
   "name": "python",
   "version": "3.8.5"
  },
  "orig_nbformat": 4
 },
 "nbformat": 4,
 "nbformat_minor": 2
}
