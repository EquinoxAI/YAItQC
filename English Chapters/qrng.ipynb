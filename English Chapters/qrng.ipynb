{
 "cells": [
  {
   "cell_type": "markdown",
   "metadata": {},
   "source": [
    "## Quantum Random Number Generators\n",
    "\n",
    "Pick a random number between 1 and 10. \n",
    "\n",
    "Was it 7?  \n",
    "Humans are really bad at picking random numbers. For instance, choosing 1 or 10 doesn’t seem so random because they are the largest and smallest numbers. A number picked near the middle intuitively feels more random than one at the higher or lower end. Even numbers seem less random than odd ones (though there is no reason for this to be true). \n",
    "\n",
    "\n",
    "## Why do we want random numbers?\n",
    "\n",
    "For much of human history, random numbers were only used in games of chance. Dice go back 5,000 years (Piovano, 2011/2016). During WW2, random numbers became an important statistical tool for von Neuman when he was working on the Manhattan project (Metropolis, 1987) and for use by the Germans in sending encrypted messages. \n",
    "From the Manhattan project (Metropolis, 1987) came Monte Carlo methods. These are simulations that take a large number of samples from a model using random numbers to compute something that would be difficult to solve otherwise. They are a powerful and ubiquitous tool in physics, economics and data science. It became clear that random numbers were increasingly useful in areas of science, cryptography and statistics. More recently, with the abundance of private information sent over the internet, there is considerable need to generate a large number of random numbers for various encryptions standards (Zhou & Tang, 2011).\n",
    "\n",
    "## The limitations of peudorandom number generators \n",
    "\n",
    "\n",
    "Pseudorandom number generators (PRNGs) and do not actually produce random numbers. Anyone who knows the seed (initial random number) and the algorithm can generate the entire sequence with complete certainty. If left to run for long enough, both the middle square method and linear congruential method will repeat. This is fine for videogames where it is the feeling of randomness which matters, but not so great for encrypting communications (Li, 2013). With insider knowledge of the PRNG, an attacker could decrypt the communication.\n",
    "\n",
    "## Quantum RNG\n",
    "\n",
    "Quantum RNG\n",
    "\n",
    "Thankfully there are ways of generating truly random numbers based on physical processes. Atmospheric noise, the cosmic microwave background (the effect that caused static on old TVs) and radioactive decay are good examples. We can measure radio wave or microwave radiation, or the number of clicks from a Geiger counter.\n",
    "Quantum computers can also be used for this purpose. They are effectively controlled physical experiments leveraging quantum mechanics to perform some computation. Since randomness is an inherent part of quantum mechanics, quantum computers, unlike classical ones used by von Neuman, can serve as a True Random Number Generator (TRNG) (Jacak, 2021). This is because a quantum system can exist in a superposition of possible states, and following a measurement takes on one of these states. Whilst we can know the probability of the system taking each of these states, we cannot know with absolute certainty which it will take (Nielsen & Chuang, 2000).\n",
    "\n",
    "Below is an example of how n random numbers (from 0 to nmax) can be generated using IBM’s quantum computer. The code creates a quantum circuit with enough qubits to represent the power of 2 greater than nmax. The qubits are then put into a superposition and measured to obtain the random number. This process is repeated 1000 times and sampled n times to produce the numbers.  \n",
    "\n",
    "The TRNG implemented here is hardly the most practical implementation. It is rather slow, requires access to IBM’s cloud infrastructure, is vulnerable to interception, and runs on a device cooled to nearly absolute zero. A more useful implementation of this concept was done 20 years ago by the Swiss company ID Quantique, using a photonic chip. Newer models can be integrated in desktop PCs with PCIe connectivity or even USB (ID Quantique, n.d.)."
   ]
  },
  {
   "cell_type": "code",
   "execution_count": null,
   "metadata": {},
   "outputs": [],
   "source": [
    "%matplotlib\n",
    "\n",
    "import numpy as np\n",
    "import matplotlib.pyplot as plt\n",
    "# Importing standard Qiskit libraries\n",
    "from qiskit import QuantumCircuit,execute, transpile, Aer, IBMQ\n",
    "from qiskit.tools.jupyter import *\n",
    "from qiskit.visualization import *\n",
    "from ibm_quantum_widgets import *\n",
    "from qiskit.providers.aer import QasmSimulator\n",
    "from qiskit import IBMQ\n",
    "plt.style.use('seaborn')\n",
    "# Loading your IBM Quantum account(s)\n",
    "provider = IBMQ.load_account()"
   ]
  },
  {
   "cell_type": "code",
   "execution_count": null,
   "metadata": {},
   "outputs": [],
   "source": [
    "IBMQ.load_account()\n",
    "IBMQ.providers()"
   ]
  },
  {
   "cell_type": "code",
   "execution_count": null,
   "metadata": {},
   "outputs": [],
   "source": [
    "provider = IBMQ.get_provider(hub='ibm-q')\n",
    "provider.backends()\n",
    "backend = provider.get_backend('ibmq_bogota')\n",
    "backend"
   ]
  },
  {
   "cell_type": "code",
   "execution_count": null,
   "metadata": {},
   "outputs": [],
   "source": [
    "\n",
    "n = 10                         #Random integer maximum\n",
    "numbers = 8\n",
    "print(\"Generate {} random number(s) in the range [1,{}]\".format(numbers,n))\n",
    "nb = bin(n)                     #binary representation of n\n",
    "\n",
    "nq = len(str(nb)) -2            #Number of qubits requierd\n",
    "\n",
    "print(\"{} qubits will be required\".format(nq))\n",
    "\n",
    "qrng = QuantumCircuit(nq)       #Define our quantum circuit\n",
    "\n",
    "for i in range(nq ):            #Place a Hadamard on each qubit\n",
    "    qrng.h(i)\n",
    "\n",
    "qrng.measure_all()              #Measure all Qubits\n",
    "qrng.draw()\n",
    "\n",
    "#Execute the quantum circuit and store the results\n",
    "counts = execute(qrng,Aer.get_backend('qasm_simulator'),shots = 10000).result().get_counts() \n",
    "fig =  plot_histogram(counts) #Show results as historgram"
   ]
  },
  {
   "cell_type": "code",
   "execution_count": null,
   "metadata": {},
   "outputs": [],
   "source": [
    "#%matplotlib inline\n",
    "%matplotlib\n",
    "legend = [i for i in range(16)]\n",
    "\n",
    "\n",
    "plot_histogram(counts, title = 'Histogram of random numbers', bar_labels=False)"
   ]
  },
  {
   "cell_type": "code",
   "execution_count": null,
   "metadata": {},
   "outputs": [],
   "source": [
    "nr =[] #Store random numbers in a list\n",
    "\n",
    "j = 0\n",
    "while j < numbers:\n",
    "    for i in counts: #Sample all the counts\n",
    "    \n",
    "        k = int(i,2)\n",
    "        if k < n:\n",
    "            nr.append(k)\n",
    "            j = j+  1\n",
    "            \n",
    "print(nr)"
   ]
  },
  {
   "cell_type": "code",
   "execution_count": null,
   "metadata": {},
   "outputs": [],
   "source": [
    "seed = np.random.randint(100,200)\n",
    "\n",
    "print(seed)\n",
    "r1 = seed**2\n",
    "print(r1)\n"
   ]
  },
  {
   "cell_type": "code",
   "execution_count": null,
   "metadata": {},
   "outputs": [],
   "source": [
    "print(nr)\n",
    "print(type(nr[0]))"
   ]
  },
  {
   "cell_type": "code",
   "execution_count": null,
   "metadata": {},
   "outputs": [],
   "source": [
    "\n",
    "# Loading your IBM Quantum account(s)\n",
    "provider = IBMQ.load_account()\n",
    "\n",
    "\n",
    "n = 2020 \n",
    "nb = bin(n)\n",
    "\n",
    "print(nb)\n",
    "\n",
    "nq = len(str(nb)) -2\n",
    "\n",
    "print(nq)\n"
   ]
  },
  {
   "cell_type": "code",
   "execution_count": null,
   "metadata": {},
   "outputs": [],
   "source": [
    "#Runnning on IBM Santiago\n",
    "\n",
    "backend = provider.get_backend('ibmq_santiago')\n",
    "\n",
    "n = 10                         #Random integer maximum\n",
    "numbers = 8                     #Number of random numbers\n",
    "nb = bin(n)                     #binary representation of n\n",
    "nr =[]                          #Store random numbers in a list\n",
    "nq = len(str(nb)) -2            #Number of qubits requierd\n",
    "\n",
    "qrng = QuantumCircuit(nq)       #Define our quantum circuit#\n",
    "for i in range(nq):            #Place a Hadamard on each qubit\n",
    "    qrng.h(i)\n",
    "qrng.measure_all()              #Measure all Qubits\n",
    "#Execute the quantum circuit and store the results\n",
    "counts = execute(qrng,backend,shots = 1000).result().get_counts() \n",
    "\n",
    "j = 0\n",
    "while j < numbers:\n",
    "    for i in counts: #Sample all the counts\n",
    "    \n",
    "        k = int(i,2)\n",
    "        if k < n:\n",
    "            nr.append(k)\n",
    "            j = j+  1\n",
    "            \n",
    "plot_histogram(counts) #Show results as historgram\n",
    "print(nr)"
   ]
  },
  {
   "cell_type": "code",
   "execution_count": null,
   "metadata": {},
   "outputs": [],
   "source": [
    "#Random Number generator\n",
    "\n",
    "backend = Aer.get_backend('qasm_simulator')\n",
    "\n",
    "nmax = 31                       #Random integer maximum\n",
    "nr =[]                          #Store random numbers in a list\n",
    "n = 8                           #Number of random numbers\n",
    "nb = bin(nmax)                  #binary representation of n\n",
    "nq = len(str(nb)) -2            #Number of qubits requierd\n",
    "\n",
    "qrng = QuantumCircuit(nq)       #Define our quantum circuit\n",
    "for i in range(nq ):            #Place a Hadamard on each qubit\n",
    "    qrng.h(i)\n",
    "qrng.measure_all()              #Measure all Qubits\n",
    "\n",
    "#Execute the quantum circuit and store the results\n",
    "counts = execute(qrng,backend,shots = 1000).result().get_counts() \n",
    "\n",
    "j = 0\n",
    "while j < n:\n",
    "    for i in counts:            #Sample all the counts\n",
    "    \n",
    "        k = int(i,2)            #convert from binary back to decimal\n",
    "        if k < n :              #add to the list if they are less than nmax\n",
    "            nr.append(k)\n",
    "            j = j+  1\n",
    "print(nr)\n",
    "\n",
    "\n",
    "qrng.draw()"
   ]
  },
  {
   "cell_type": "markdown",
   "metadata": {},
   "source": [
    "## References \n",
    "\n",
    "ID Quantique. (n.d.). Quantis QRNG Chip. Retrieved from https://www.idquantique.com/random-number-generation/products/quantis-qrng-chip/\n",
    "\n",
    "Jacak, M. J. (2021). Quantum generators of random numbers. Sci Rep.\n",
    "\n",
    "Li, A. (2013). Potential Weaknesses In Pseudorandom Number Generators.\n",
    "\n",
    "Metropolis, N. (1987). The Beginning of the Monte Carlo Method. Los Alamos Science Special Issue, 15.\n",
    "\n",
    "Neuman, J. v. (1951). Various Techniques Used in Connection With Random Digits. Res. Nat. Bur. Stand. Appl. Math. \n",
    "\n",
    "Nielsen, M. A., & Chuang, I. L. (2000). Quantum Computation and Quantum Information. Cambridge University Press.\n",
    "\n",
    "Piovano, I. (2011/2016). In Logic and Belief in Indian Philosophy. Warsaw Indological Studies.\n",
    "\n",
    "Thomson, W. E. (1958). A Modified Congruence Method of Generating Pseudo-random Numbers. The Computer journal , 83.\n",
    "\n",
    "Zhou, X., & Tang, X. (2011). Research and implementation of RSA algorithm for encryption and decryption. Research and implementation of RSA algorithm for encryption and decryption. \n",
    "\n"
   ]
  }
 ],
 "metadata": {
  "interpreter": {
   "hash": "b3ba2566441a7c06988d0923437866b63cedc61552a5af99d1f4fb67d367b25f"
  },
  "kernelspec": {
   "display_name": "Python 3.8.5 64-bit ('base': conda)",
   "name": "python3"
  },
  "language_info": {
   "codemirror_mode": {
    "name": "ipython",
    "version": 3
   },
   "file_extension": ".py",
   "mimetype": "text/x-python",
   "name": "python",
   "nbconvert_exporter": "python",
   "pygments_lexer": "ipython3",
   "version": "3.8.5"
  },
  "orig_nbformat": 4
 },
 "nbformat": 4,
 "nbformat_minor": 2
}
