{
 "cells": [
  {
   "cell_type": "markdown",
   "metadata": {},
   "source": [
    "# 1. What is Quantum?\n",
    "\n",
    "Before we can talk about quantum computing, we first have to understand the basic concepts of quantum that make it work. \n",
    "\n",
    "## 1.1 Common misconceptions about quantum \n",
    " \n",
    "In science fiction *quantum* is often used to explain away a technology that seems to defy the laws of physics. In the 2018 superhero movie *Ant-Man*, the protagonist is able to become smaller and smaller until they enter the mysterious *Quantum Realm*, described as “a reality where all concepts of time and space become irrelevant”. \n",
    "\n",
    "If this was how subatomic physics worked, there would be no subatomic physics $^*$.\n",
    "\n",
    "Quantum mechanics is described by the Schrödinger equation that is built on space and time. There are some differences to classical physics, the physics everyone is used to experiencing in everyday life. Quantum it is not some magical concept which allows for anything that violates classical physics to be explained away. There are however, some small but significant features of quantum mechanics that allow for the development of new technologies. \n",
    "\n",
    "\n",
    "## 1.2 How many physicists does it take to change a lightbulb?\n",
    "\n",
    "In the early 20th century, a German physicist (by the cool name of Max Planck) was tasked with modelling the emission of light from a filament bulb (basically a wire that gets hot enough to glow). He came up with what is known as the black body radiation spectrum. It turns out, from his model, the energy emitted by an object with a finite temperature is not emitted in a continuous spectrum. That's to say rather than all possible wavelengths of light being emitted by this bulb only certain wavelengths were allowed. This is known as a discrete spectrum. What this in turn means is that energy is emitted are chunks, or *quanta*, with a well-defined energy. We can't have energy between these chunks. It's a bit like taking the lift (elevator in American English). One can only get on or off the lift at specific heights corresponding to the floor level. Each floor is seperated by a distance and the lift can go up or down in any multiple of these distances limited by the number of floors. In between those levels the doors of the lift won't open.\n",
    "\n",
    "![lift](Images\\Energy_Levels.png)\n",
    "\n",
    "This concept of quantisation of energy is where the quantum comes from. Whilst this concept is less significant to quantum computing, it is still worth mentioning. The reason for this is that the transistor that powers all digital electronics is built upon this concept. Thus all computations using this technology (the integrated circuit) are computers running on quantum mechanics. Which is not to say they are quantum computers simply that they are fundamentally built upon quantum physics, as are you, I, and everything we can see and touch. \n",
    "\n",
    "Beyond the quantisation of energy, there are quantum phenomena which are very much more significant to quantum computing: *superposition & entanglement*. \n",
    "\n",
    "## 1.3 So what happened to Schrödinger’s cat?\n",
    "\n",
    "You may have heard of a very special cat associated with another German physicist, Schrodinger. In this analogy, a cat is kept inside a black box that the observer can't view inside. Within the box, there is also a vial of poison with a radioactive source. The radioactive source has an equal probability of decaying or not decaying in some time. If the source decays, the poison is released and the cat dies. otherwise the cat is just fine. Until the observer opens the box they don't know if the cat is dead or alive. \n",
    "![cat](Images\\standard_cat.png)\n",
    "[2]\n",
    "\n",
    "Schrodinger came up with this analogy to explain why quantum mechanics was so controversial for physicists that had been able to do very well with classical physics until the turn of the 20th century. This analogy is effective but is far removed from the everyday experiences one has, so another analogy can be made that encapsulates the same physics. \n",
    "\n",
    "\n",
    "<p align=\"center\">\n",
    "    It is as simple as tossing a coin.\n",
    "</p>\n",
    "\n",
    "\n",
    "A normal coin has two faces: heads & tails. Assuming the coin is unbiased, When the coin is tossed there should be an equal probability of landing on a heads, $P(H)$ or a tails, $P(T)$, both equal to $1/2$. Here the extremely unlikely case where the coin lands on its round edge is not considered. When the coin has not yet landed, we can say it is in a particular state where it is *like being both* heads and tails at the same time. That's not to say there are 2 coins where 1 coin is heads up and the other coin is tails facing up*. Instead this means there is some uncertainty in the state of the coin. \n",
    "\n",
    "In quantum mechanics we call this particular state a *superposition*. And this is the state we say the Schrodinger's cat is in before the box is opened. \n",
    "\n",
    "When the coin lands, it faces either heads or tails up. Now there is no uncertainty in the state of the coin. If we were to cover the coin and then look at it again some time later, it would still have the same side facing up. The superposition the coin was in before has been collapsed. The concept of looking at the coin, or opening the box, is what in quantum mechanics is known as *performing a measurement*.\n",
    "\n",
    "$*$ According to the many worlds interpretation of quantum mechanics it is not quite so simple...\n",
    "\n",
    "## 1.4 Not so spooky action at a distance\n",
    "\n",
    "The more conceptually difficult phenomena quintessential to quantum computing can also be explained using coins (but with one small modification). For this example 2 coins will be required. \n",
    "\n",
    "Tossing two unbiased coins is effectively the same as tossing the same coin twice and recording the outcome each time. Guessing whether the coin is H or T is 50% for each coin or 25% for getting both of them correct. \n",
    "\n",
    "For the next step some removeable adhesive will be required. Imagine placing the coins together with each coin having the H facing outwards and the T's stuck together to make one coin twice as thick. Tossing this coin will always result in one coin with the H facing upwards. But before the coin is revealed, the two coins are separated. The coin at the bottom must have its T side up, leaving 2 coins one H and the other T. After shuffling the coins they are separated. \n",
    "\n",
    "![Unit_circle](Images\\Entanglement.png)\n",
    "[3]\n",
    "\n",
    "At this point, guessing either of the coin would have a 50% chance of getting the right outcome- the same as for two coins tossed separately. \n",
    "\n",
    "But if only one of the coins is revealed, say the H coin, then it is instantly known that the other one must be a T. Suddenly guessing the state of the second coin has a 100% chance of success whereas with the separate coin tosses revealing one made no difference to guessing the other. These linked probabilities is what is known as an *entangled state*.\n",
    "\n",
    "## 1.5 Quantum Technology \n",
    "\n",
    "Quantum Technologies, as they are defined by John Morton, director of UCLQ (as of the time of writing) are *\"ones which exploit quantum superposition and entanglement to achieve major advances over current technologies in areas including communication, sensing and information processing.\"*\n",
    "\n",
    "These are devices that take advantage of the aforementioned phenomena for practical applications to do something better than what can be done without using them. Quantum computation is one of the most exciting quantum technologies even if it is much less mature than others like quantum metrology (sensing) and encryption (communications).\n",
    "\n",
    "\n",
    "## Chapter 1 Summary \n",
    "\n",
    "- The word quantum comes from quantised- or in discrete units \n",
    "- A superposition happens when there are two possible states\n",
    "- Entanglement happens when the outcomes of two indivudually random systems are correlated very strongly \n",
    "- Quantum technologies use superposition & entanglement in their operation "
   ]
  },
  {
   "cell_type": "markdown",
   "metadata": {},
   "source": [
    "$^*$ Below about $10^{-35}$ m, the Planck length, even quantum mechanics fails to provide a complete description of physics and so describing what would be observed at such a scale is beyond what physics can say for now. \n",
    "\n",
    "\n",
    "### Refrences\n",
    "\n",
    "\n",
    "[1] Micheal Faraday, 1859 “Experimental researches in Chemistry and Physics ... Reprinted from the Philosophical Transactions of 1821-1857; the Journal of the Royal Institution ... and other publications”, p.477"
   ]
  }
 ],
 "metadata": {
  "kernelspec": {
   "display_name": "Python 3.8.5 ('base')",
   "language": "python",
   "name": "python3"
  },
  "language_info": {
   "name": "python",
   "version": "3.8.5"
  },
  "orig_nbformat": 4,
  "vscode": {
   "interpreter": {
    "hash": "ad2bdc8ecc057115af97d19610ffacc2b4e99fae6737bb82f5d7fb13d2f2c186"
   }
  }
 },
 "nbformat": 4,
 "nbformat_minor": 2
}
