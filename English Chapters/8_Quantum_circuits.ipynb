{
 "cells": [
  {
   "cell_type": "markdown",
   "metadata": {},
   "source": [
    "## 6 Quantum Circuits\n",
    "\n",
    "A quantum ciruit is a diagram that codifies how entanglement and superposition can be implemented on a set of qubits and measured in order to carry out a specific quantum algorithm. \n",
    "\n",
    "In the most basic sense, a quantum circuit consists of 3 parts \n",
    "\n",
    "1. Start your qubits in an initial quantum state\n",
    "2. Perform a series of single and 2 qubit gates \n",
    "3. Measure the qubits "
   ]
  },
  {
   "cell_type": "code",
   "execution_count": null,
   "metadata": {
    "vscode": {
     "languageId": "plaintext"
    }
   },
   "outputs": [],
   "source": []
  }
 ],
 "metadata": {
  "language_info": {
   "name": "python"
  },
  "orig_nbformat": 4
 },
 "nbformat": 4,
 "nbformat_minor": 2
}
