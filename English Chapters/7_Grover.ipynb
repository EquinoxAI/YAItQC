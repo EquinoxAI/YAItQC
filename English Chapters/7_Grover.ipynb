{
 "cells": [
  {
   "cell_type": "markdown",
   "metadata": {},
   "source": [
    "## 7 Grover's Search Algorithm\n",
    "\n",
    "It is very common to encounter problems that revolve around being able to find an optimal solution from a large quantitiy of possible solutions. Usually there is some structure in the solutions, for example searching a an address book alphabetically, but in many cases the complexity of the problem can cause the set of solutions to become unstuctured. In the worst case, if the best solution is to guess at random for the solution then the probability of getting the ideal solution becomes $1/N$ for $N$ possible solutions. On average, $N/2$ guesses would need to be made for the problem to be solved. Such problems, where finding a solution requires a number of steps proportional to $N$ can be described using complexity theory as being $O(N)$. If $N$ were to be very large, for example $10^{24}$, finding the correct answer would take an exceptionally long time and require the most powerful supercomputer to brute force solve to even be possible. \n",
    "\n",
    "In 1996 Lov Grover proposed a quantum algorithm that can accomplish this same task in fewer steps. Grover's search algorithm is able to achieve a solution in $O(\\sqrt{N})$ steps. In turn this could reduce the number of steps from $\\sim 10^{24}$ to $\\sim 10^{12}$ - a speedup of a trillion *in theory*."
   ]
  },
  {
   "cell_type": "code",
   "execution_count": 6,
   "metadata": {},
   "outputs": [
    {
     "name": "stdout",
     "output_type": "stream",
     "text": [
      "Using matplotlib backend: Qt5Agg\n"
     ]
    }
   ],
   "source": [
    "# Interactive graph to show how \n",
    "\n",
    "import numpy as np\n",
    "from numpy import * #Use with caution as this causes packages to mess with each other\n",
    "import matplotlib.pyplot as plt\n",
    "from matplotlib.widgets import Slider, Button\n",
    "plt.style.use('seaborn')\n",
    "%matplotlib\n",
    "\n",
    "\n",
    "# The parametrized function to be plotted\n",
    "def f(x , a):\n",
    "    return 10/a * np.sqrt(x)\n",
    "\n",
    "x = np.linspace(0, 1000, 10000)\n",
    "\n",
    "# Define initial parameters\n",
    "\n",
    "a = 1\n",
    "\n",
    "# Create the figure and the line that we will manipulate\n",
    "fig, ax = plt.subplots()\n",
    "line, = plt.plot(x, f(x, a),lw = 5,  label = 'Quantum search')\n",
    "plt.plot(x,x,lw = 5,label = 'Classical search')\n",
    "ax.set_xlabel('Size of problem', fontsize = 24)\n",
    "ax.set_ylabel('Time taken to solve', fontsize = 24)\n",
    "ax.set_title(\"Grover's Search Algorithm\", fontsize = 36)\n",
    "# adjust the main plot to make room for the sliders\n",
    "plt.subplots_adjust(bottom=0.25)\n",
    "plt.legend()\n",
    "# Make a horizontal slider to control the frequency.\n",
    "axfreq = plt.axes([0.25, 0.1, 0.65, 0.03])\n",
    "speed_slider = Slider(\n",
    "    ax=axfreq,\n",
    "    label='Speed of Quantum Computer', \n",
    "    valmin=0.1,\n",
    "    valmax= 1,\n",
    "    valinit=0.1,\n",
    ")\n",
    "\n",
    "# The function to be called anytime a slider's value changes\n",
    "def update(val):\n",
    "    line.set_ydata(f(x, speed_slider.val))\n",
    "    fig.canvas.draw_idle()\n",
    "\n",
    "\n",
    "# register the update function with each slider\n",
    "speed_slider.on_changed(update)\n",
    "\n",
    "# Create a `matplotlib.widgets.Button` to reset the sliders to initial values.\n",
    "resetax = plt.axes([0.8, 0.025, 0.1, 0.04])\n",
    "button = Button(resetax, 'Reset', hovercolor='0.975')\n",
    "\n",
    "\n",
    "def reset(event):\n",
    "    speed_slider.reset()\n",
    "button.on_clicked(reset)\n",
    "\n",
    "plt.show()"
   ]
  }
 ],
 "metadata": {
  "interpreter": {
   "hash": "b3ba2566441a7c06988d0923437866b63cedc61552a5af99d1f4fb67d367b25f"
  },
  "kernelspec": {
   "display_name": "Python 3.8.5 ('base')",
   "language": "python",
   "name": "python3"
  },
  "language_info": {
   "codemirror_mode": {
    "name": "ipython",
    "version": 3
   },
   "file_extension": ".py",
   "mimetype": "text/x-python",
   "name": "python",
   "nbconvert_exporter": "python",
   "pygments_lexer": "ipython3",
   "version": "3.8.5"
  },
  "orig_nbformat": 4
 },
 "nbformat": 4,
 "nbformat_minor": 2
}
