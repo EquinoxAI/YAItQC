{
 "cells": [
  {
   "cell_type": "markdown",
   "metadata": {},
   "source": [
    "# 5 Single Qubits \n",
    "\n",
    "## 5.1 The unit of information\n",
    "\n",
    "Having introduced some of the basic mathematics to describe quantum computing, let's get started. \n",
    "\n",
    "On the many articles and news reports on quantum computing, QC is explained using the idea of qubits. This chapter will use the mathematical concepts to describe how individual qubits work. "
   ]
  }
 ],
 "metadata": {
  "language_info": {
   "name": "python"
  },
  "orig_nbformat": 4
 },
 "nbformat": 4,
 "nbformat_minor": 2
}
