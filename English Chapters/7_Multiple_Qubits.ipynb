{
 "cells": [
  {
   "cell_type": "markdown",
   "metadata": {},
   "source": [
    "# 7 Multiple Qubits \n",
    "\n",
    "## 7.1 More than the Sum of it's Parts\n",
    "\n",
    "If quantum computing was nothing more than a collection of qubits processed individually, there would be little point in building a quantum computer. Even classical computing requires more than operations on single bits to do even basic addition. \n",
    "\n",
    "Having qubits interact with one another allows for more complex algorithms. One qubit can control what happens to another. "
   ]
  }
 ],
 "metadata": {
  "language_info": {
   "name": "python"
  },
  "orig_nbformat": 4
 },
 "nbformat": 4,
 "nbformat_minor": 2
}
