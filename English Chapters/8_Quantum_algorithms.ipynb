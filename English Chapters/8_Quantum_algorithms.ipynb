{
 "cells": [
  {
   "cell_type": "markdown",
   "metadata": {},
   "source": [
    "## 9 Quantum Algorithms \n",
    "\n",
    "\n",
    "\n",
    "### 9.1 The Black Box of the Universe \n",
    "\n",
    "### 9.2 Complexity theory isn't that complicated\n",
    "\n",
    "\n",
    "### 9.3 Qiskit: the best platform for developing quantum algorithms"
   ]
  }
 ],
 "metadata": {
  "language_info": {
   "name": "python"
  },
  "orig_nbformat": 4
 },
 "nbformat": 4,
 "nbformat_minor": 2
}
