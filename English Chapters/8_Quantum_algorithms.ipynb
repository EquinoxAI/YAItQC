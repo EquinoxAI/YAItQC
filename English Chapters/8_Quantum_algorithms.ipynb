{
 "cells": [
  {
   "cell_type": "markdown",
   "metadata": {},
   "source": [
    "## 8 Quantum Algorithms \n",
    "\n",
    "\n",
    "### 8.1 Complexity theory isn't that complicated\n",
    "\n",
    "When doing a computation, we are really interested in how long it will take. How long it takes to solve a problem depends on the algorithm. If the algorithm has a lot of steps, it will take the computer longer to solve them problem. It also depends on how fast the computers is/ speed of the memory or ability to use hardware acceleration (GPUs) or parallelise the problem. \n",
    "\n",
    "Since the speed of the hardware varies for every computer, we prefer to consider how many steps the algorithm has. \n",
    "\n",
    "In computer science, complexity theory is the study of how hard problems are to solve. The hardness is described by the number of steps an algorithm needs to solve a problem.\n",
    "\n",
    "For example, adding two n-digit numbers will require on the order of n operations. Multiplication \n",
    "\n",
    "### 8.2 Types of quantum algorithms \n",
    "\n",
    "Fault-tolerant quantum algorithms \n",
    "NISQ quantum algorithms \n",
    "Variational quantum algorithms \n",
    "\n",
    "### 8.3 Practical considerations \n",
    "\n",
    "\n",
    "\n",
    "- Hardware \n",
    "\n",
    "    - Number of qubits (is it enough to run our algorithm)\n",
    "    - Quality of qubits (can you trust the answer)\n",
    "    - Pricing/ availibility (can you afford it)\n",
    "    - Software features/support (how easy is it to use, does it support optimisation of quantum circuits ect)\n",
    "\n",
    "\n",
    "### 8.4 Limitations of quantum computing "
   ]
  }
 ],
 "metadata": {
  "language_info": {
   "name": "python"
  },
  "orig_nbformat": 4
 },
 "nbformat": 4,
 "nbformat_minor": 2
}
