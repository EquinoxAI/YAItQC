{
 "cells": [
  {
   "cell_type": "markdown",
   "metadata": {},
   "source": [
    "# 8 Quantum Algorithms \n",
    "\n",
    "\n",
    "## 8.1 Complexity theory isn't that complicated\n",
    "\n",
    "When doing a computation, we are really interested in how long it will take. How long it takes to solve a problem depends on the algorithm. If the algorithm has a lot of steps, it will take the computer longer to solve them problem. It also depends on how fast the computers is/ speed of the memory or ability to use hardware acceleration (GPUs) or parallelise the problem. \n",
    "\n",
    "Since the speed of the hardware varies for every computer, we prefer to consider how many steps the algorithm has. \n",
    "\n",
    "In computer science, complexity theory is the study of how hard problems are to solve. The hardness is described by the number of steps an algorithm needs to solve a problem.\n",
    "\n",
    "For example, adding two n-digit numbers will require on the order of n operations. Multiplication \n",
    "\n",
    "\n",
    "## 8.2 Quantum computers now and of the future\n",
    "\n",
    "## 8.3 Types of quantum algorithms \n",
    "\n",
    "\n",
    "- NISQ quantum algorithms \n",
    "- Variational quantum algorithms \n",
    "    -Variational Quantum Eigensolver, Quantum Approximate Optimisation Ansatz\n",
    "- Fault-tolerant quantum algorithms \n",
    "    - Shor's Algorithm, Grover's algorithm, Quantum Monte Carlo,  HHL algorithm \n",
    "\n",
    "## 8.4 How much do we need?\n",
    "\n",
    "It is extremely important to keep track of the resource requirements for any quantum algorithm. \n",
    "\n",
    "If it turns out that an algorithm requires thousands of qubits with circuit depths in the thousands, or millions, this will not be feasable with a quantum computer in the next decade. \n",
    "\n",
    "Across many of the proposed quantum algorithms, significant work has been done in reducing the requirements. This can be done by making circuits more efficient- using fewer gates and fewer qubits.  It is hoped that continued progress in circuit optimisation and improved hardware specifications will allow for better quantum algorithms to be implemented in the near-term. \n",
    "\n",
    "### 8.5 Practical considerations \n",
    "\n",
    "- Try a small-scale proof of concept project first \n",
    "    - Small scale QC can be simulated on a classical computer. This can be a lot cheaper than buying access to an expensive QPU\n",
    "\n",
    "\n",
    "\n",
    "- Does the problem require QC?\n",
    "    - Quantum computing is a rather exotic solution proposed largerly for problems tackled by supercomputers. Consider more conventional solutions before trying quantum\n",
    "    - How strong is the evidence that QC has an advantage for this problem. \n",
    "\n",
    "- Hardware \n",
    "\n",
    "    - Number of qubits (is it enough to run our algorithm)\n",
    "    - Quality of qubits (are the outputs reliable or just noise)\n",
    "    - Pricing/ availibility (can you afford it)\n",
    "    - Software features/support (how user-friendly is it, is it compatible with qiksit/ML libraries, does it support optimisation of quantum circuits ect)\n",
    "\n",
    "\n",
    "- Cost \n",
    "    - Currently, access to QPU time is dominated by fixed cloud overheads (i.e. the provider). This means the costs can come down very quickly as the hardware scales. \n",
    "    - Energy costs are a large part of the costs of running conventional HPC clusters. For QPUs almost all the energy requirements are in cooling (with very little in control electronics). How this scales in the future depends on the qubit type. Optimistically, energy requirements could remain fixed for the next few years as the cooling requirements are constant for a significant growth in qubit quantity & quality. \n",
    "\n",
    "\n",
    "### 8.4 Limitations of quantum computing \n",
    "\n",
    "- Quantum computers are very small scale. As of the time of writing, the gate-based quantum processing unit (QPU) with the most qubits has 127 qubits. However this machine from IBM (named eagle) is not currently availible for public use. At the time of writing the QPU with the most availible qubits has [INSERT REFERENCE TO QPU WITH MOST QUBITS]\n",
    "- Current QPU's have high error rates. [INSERT FIGURE]\n",
    "- Quantum computing is very expensive [Reference]\n",
    "\n",
    "- QC is not a solution to every problem. For the vast majority of computational tasks, there is no proposed quantum algorithm. Thus, the vast majority of consumers are unlikely to benefit from QC in the medium term."
   ]
  }
 ],
 "metadata": {
  "kernelspec": {
   "display_name": "Python 3.8.5 ('base')",
   "language": "python",
   "name": "python3"
  },
  "language_info": {
   "name": "python",
   "version": "3.8.5"
  },
  "orig_nbformat": 4,
  "vscode": {
   "interpreter": {
    "hash": "ad2bdc8ecc057115af97d19610ffacc2b4e99fae6737bb82f5d7fb13d2f2c186"
   }
  }
 },
 "nbformat": 4,
 "nbformat_minor": 2
}
