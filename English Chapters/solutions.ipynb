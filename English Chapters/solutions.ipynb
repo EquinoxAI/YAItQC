{
 "cells": [
  {
   "cell_type": "markdown",
   "metadata": {},
   "source": [
    "# Solutions to exercises \n",
    "\n",
    "### 4.1\n",
    "\n",
    "\n",
    "If the probability of measuring heads is $P$, then the probability amplitude for $H$ is $sqrt(P)$. The probability of getting tails is $ P(T) = 1 - P(H)$ which gives $P(T) = 1 -P$. \n",
    "\n",
    "We can then define the state of our coin as $\\ket{\\psi}$\n",
    "\n",
    "$$ \\ket{\\psi} = \\sqrt{P} \\ket{H} + \\sqrt{1-P} \\ket{T}$$\n",
    "\n",
    "Writing this as a column vector \n",
    "\n",
    "$$ \\ket{\\psi} = \\sqrt{P} \\begin{bmatrix} 1 \\\\ 0 \\end{bmatrix} + \\sqrt{1-P} \\begin{bmatrix} 0 \\\\ 1 \\end{bmatrix} $$\n",
    "\n",
    "\n"
   ]
  }
 ],
 "metadata": {
  "language_info": {
   "name": "python"
  },
  "orig_nbformat": 4
 },
 "nbformat": 4,
 "nbformat_minor": 2
}
