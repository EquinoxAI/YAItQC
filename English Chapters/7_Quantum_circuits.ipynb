{
 "cells": [
  {
   "cell_type": "markdown",
   "metadata": {},
   "source": [
    "## 7 Quantum Circuits\n",
    "\n",
    "A quantum ciruit is a diagram showing the operations that act on qubits to carry out a computation. All quantum circuits have 3 parts:\n",
    "\n",
    "1. Start your qubits in an initial quantum state\n",
    "2. Perform a series of single and 2 qubit gates \n",
    "3. Measure the qubits \n",
    "\n",
    " "
   ]
  }
 ],
 "metadata": {
  "language_info": {
   "name": "python"
  },
  "orig_nbformat": 4
 },
 "nbformat": 4,
 "nbformat_minor": 2
}
