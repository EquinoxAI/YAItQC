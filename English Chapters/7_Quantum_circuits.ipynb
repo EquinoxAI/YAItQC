{
 "cells": [
  {
   "cell_type": "markdown",
   "metadata": {},
   "source": [
    "## 7 Quantum Circuits\n",
    "\n",
    "\n",
    "## 7.1 What do you need for a quantum computation? \n",
    "\n",
    "A quantum ciruit is a diagram showing the operations that act on qubits to carry out a computation. All quantum circuits have 3 parts:\n",
    "\n",
    "1. Initialisaton: Start your qubits in an initial quantum state\n",
    "2. Computation: Perform a series of single and 2 qubit gates \n",
    "3. Measurement: Measure the qubits \n",
    "\n",
    "Many quantum algorithms will also interface with a classical computer. This is very application-spcific so it will be covered later. \n",
    "\n",
    "\n",
    "### 7.1.1 Hello quantum world\n",
    "\n",
    "\n",
    " "
   ]
  }
 ],
 "metadata": {
  "language_info": {
   "name": "python"
  },
  "orig_nbformat": 4
 },
 "nbformat": 4,
 "nbformat_minor": 2
}
