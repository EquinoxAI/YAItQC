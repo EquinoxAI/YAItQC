{
 "cells": [
  {
   "cell_type": "markdown",
   "metadata": {},
   "source": [
    "<!-- # Task 4:  Quantum Algorithms \n",
    "\n",
    "## 4.1 Complexity Theory \n",
    "\n",
    "\n",
    "## 4.2 Practical Considerations: Y2Q\n",
    "\n",
    "Current encryption standards are dominated by 2048 bit RSA encryption.  -->\n"
   ]
  },
  {
   "cell_type": "markdown",
   "metadata": {},
   "source": [
    "Thomas Clarke  \n",
    "Quantum Computing Technical Foundations  \n",
    "September 22, 2022\n",
    "# Assignment  4: Quantum Circuits \n",
    "\n",
    "Assignment Due: Friday 7th October  \n",
    "\n",
    "You may have noticed this assignment looks different to the others. For this week you get to do quantum computing, using a real quantum processor! \n",
    "\n",
    "You can [register for an IBM ID here](https://quantum-computing.ibm.com/)\n",
    "\n",
    "For each of these questions, you can simulate the circuit, generate a histogram of your results & interpret it.\n",
    "\n",
    "I will provide the building blocks & some hints \n",
    "\n",
    "> If you want to run any circuit on a noisy backend (FakeBogotaV2), copy the cell, uncomment it out and replace \"your_circuit\" with the name of your circuit.  \n",
    "> If you want to run it on a real IBM quantum computer, the easiest way to do it is using the IBM Quantum Lab. Otherwise you'll need to setup your account on your local machine"
   ]
  },
  {
   "cell_type": "code",
   "execution_count": null,
   "metadata": {},
   "outputs": [],
   "source": [
    "# transpiled_circuit = transpile(\"your_circuit\", backend_bogota)\n",
    "\n",
    "# backend_bogota.run(transpiled_circuit)"
   ]
  },
  {
   "cell_type": "code",
   "execution_count": 57,
   "metadata": {},
   "outputs": [],
   "source": [
    "import qiskit\n",
    "import numpy as np\n",
    "from qiskit import QuantumCircuit,Aer, execute\n",
    "from qiskit.tools.visualization import plot_histogram\n",
    "from qiskit.providers.fake_provider import FakeBogotaV2 \n",
    "\n",
    "sim = Aer.get_backend('aer_simulator')\n",
    "backend_bogota = FakeBogotaV2()"
   ]
  },
  {
   "cell_type": "markdown",
   "metadata": {},
   "source": [
    "## Question 1: Quantum Random Number Generator\n",
    "\n",
    "The easiest application of quantum computers is to generate random numbers. For this, we need a quantum circuit that can generate an equal superposition of states and then measure them \n",
    "\n",
    "For the first part of this, we will generate the quantum circuit that generates random numbers between 0 - 15. \n",
    "\n",
    "First you will need to generate the superposition state $\\ket{++++}$ and then measure all the qubits."
   ]
  },
  {
   "cell_type": "code",
   "execution_count": null,
   "metadata": {},
   "outputs": [],
   "source": [
    "#### CODE ###\n",
    "\n",
    "\n",
    "circ_qrng = QuantumCircuit(4) # Quantum circuit with 4 qubits \n",
    "\n",
    "### YOUR CODE HERE ###\n",
    "\n",
    "\n",
    "### YOUR CODE ENDS ###\n",
    "circ_qrng.draw()"
   ]
  },
  {
   "cell_type": "code",
   "execution_count": null,
   "metadata": {},
   "outputs": [],
   "source": [
    "# Let's run the circuit \n",
    "\n",
    "job = sim.run(circ_qrng)          # run the experiment on ideal simulator\n",
    "result = job.result()                      # get the results\n",
    "counts = result.get_counts()               # interpret the results as a \"counts\" dictionary\n",
    "print(counts)\n",
    "plot_histogram(counts)"
   ]
  },
  {
   "cell_type": "markdown",
   "metadata": {},
   "source": [
    "## Question 2 Decomposition of CNOT \n",
    "\n",
    "The requirements for universal quantum computing are that we need a gate that can entangle qubits and to be able to do arbitrary quantum gates. What this means is we can generate any quantum circuit from having an entangling gate and arbitrary single quantum gates ($U(\\theta, \\phi, \\lambda )$). For example, the CNOT gate can be broken down into a CZ gate and some other gates\n"
   ]
  },
  {
   "cell_type": "code",
   "execution_count": null,
   "metadata": {},
   "outputs": [],
   "source": [
    "cnot_decomposed = QuantumCircuit(2)\n",
    "\n",
    "### YOUR CODE HERE ###\n",
    "\n",
    "# Hadamard on 0\n",
    "\n",
    "# Controlled-Z (0,1)\n",
    "\n",
    "# Hadamard on 0\n",
    "\n",
    "### YOUR CODE ENDS ###\n",
    "\n",
    "cnot_decomposed.draw()"
   ]
  },
  {
   "cell_type": "code",
   "execution_count": null,
   "metadata": {},
   "outputs": [],
   "source": [
    "# Let's test that it works\n",
    "\n",
    "test = QuantumCircuit(2)\n",
    "\n",
    "test.h(0) \n",
    "test.compose(cnot_decomposed)\n",
    "test.measure_all()\n",
    "\n",
    "\n",
    "job = sim.run(test)                        # run the experiment on ideal simulator\n",
    "result = job.result()                      # get the results\n",
    "counts = result.get_counts()               # interpret the results as a \"counts\" dictionary\n",
    "print(counts)\n",
    "plot_histogram(counts)"
   ]
  },
  {
   "cell_type": "markdown",
   "metadata": {},
   "source": [
    "## Question 3: SWAP in terms of CNOT\n",
    "\n",
    "In the challenge question for assignment 3, we showed that it's impossible to clone a quantum state. But we can swap the quantum states of two qubits. But we can exchange the quantum states of two qubits. The gate that does this is called the SWAP gate. To do this gate, we can decompose it into three CNOTs\n",
    "\n",
    "$SWAP_{a,b} = CNOT_{a,b}CNOT_{b,a}CNOT_{a,b}$\n",
    "\n",
    "1. Implement the circuit that does this (under the name `swap_qc_cnot `)\n",
    "2. If we implement a normal swap followed by your swap, what do you expect to get as the final state?\n"
   ]
  },
  {
   "cell_type": "code",
   "execution_count": null,
   "metadata": {},
   "outputs": [],
   "source": [
    "swap_qc = QuantumCircuit(2)\n",
    "\n",
    "swap_qc.swap(0,1)\n",
    "\n",
    "swap_qc.draw(output= 'mpl')"
   ]
  },
  {
   "cell_type": "code",
   "execution_count": null,
   "metadata": {},
   "outputs": [],
   "source": [
    "swap_qc_cnot = QuantumCircuit(2)\n",
    "\n",
    "### YOUR CODE HERE ###\n",
    "\n",
    "# first CNOT\n",
    "\n",
    "# second CNOT\n",
    "\n",
    "# third CNOT \n",
    "\n",
    "\n",
    "### YOUR CODE ENDS ###\n",
    "\n",
    "swap_qc_cnot.draw(output = 'mpl')"
   ]
  },
  {
   "cell_type": "code",
   "execution_count": null,
   "metadata": {},
   "outputs": [],
   "source": [
    "double_swap = QuantumCircuit(2)\n",
    "\n",
    "double_swap.h(0)\n",
    "\n",
    "double_swap = double_swap.compose(swap_qc)\n",
    "double_swap.compose(swap_qc_cnot)\n",
    "\n",
    "\n",
    "double_swap.measure_all()\n",
    "\n",
    "\n",
    "double_swap.draw()"
   ]
  },
  {
   "cell_type": "code",
   "execution_count": null,
   "metadata": {},
   "outputs": [],
   "source": [
    "# Now we run the circuit to see what we get \n",
    "\n",
    "test = QuantumCircuit(2)\n",
    "test.h(0)\n",
    "test.measure_all()\n",
    "\n",
    "# Let's run the circuit \n",
    "\n",
    "\n",
    "job = sim.run(test)                        # run the experiment on ideal simulator\n",
    "result = job.result()                      # get the results\n",
    "counts = result.get_counts()               # interpret the results as a \"counts\" dictionary\n",
    "print(counts)\n",
    "plot_histogram(counts)"
   ]
  },
  {
   "cell_type": "code",
   "execution_count": null,
   "metadata": {},
   "outputs": [],
   "source": [
    "# If your circuit is done correctly, this cell will output identically to the one above\n",
    "\n",
    "\n",
    "job = sim.run(double_swap)                        # run the experiment on ideal simulator\n",
    "result = job.result()                      # get the results\n",
    "counts = result.get_counts()               # interpret the results as a \"counts\" dictionary\n",
    "print(counts)\n",
    "plot_histogram(counts)"
   ]
  },
  {
   "cell_type": "markdown",
   "metadata": {},
   "source": [
    "## Question 4: What could have caused it\n",
    "\n",
    "Being able to interpret the results of a quantum circuit is a useful tool in debugging a quantum computation.\n",
    "\n",
    "\n",
    "![State](Images/swirtch_v1_oslo_19.09.png)\n",
    "\n",
    "What state $\\ket{abcd}$ could have generated this histogram?\n",
    "\n",
    "> Hint: Remember what $\\ket{+}$ looks like"
   ]
  },
  {
   "cell_type": "markdown",
   "metadata": {},
   "source": [
    "## Question 5 The Quantum Fourier Transform \n",
    "\n",
    "The quantum Fourier transform (QFT) is the most powerful subroutine for any quantum algorithm. It is what grants Shors algorithm its exponential speedup and is featured in many quantum algorithms. This exercise will not fully explain what it is, or how it works, but will instead simply generate the circuit for the QFT. This should be a lot easier than the last challenge question in Assignment 3.\n",
    "\n",
    "This version was proposed by [Ekert & Joza in 1998](https://arxiv.org/abs/quant-ph/9803072).\n",
    "\n",
    "This circuit looks like this: \n",
    "![qft](Images/qft.png)\n",
    "\n",
    "Here the gates are drawn in circles, but it is exactly the same thing as the circuit with squares.  \n",
    "Starting from the top, we put a Hadamard on the top qubit, followed by a series of controlled rotation gates up to $R_n$. Each of these controlled rotation gates has all the qubits below as controls for rotations. So if $\\ket{x_{n-1}} = \\ket{1}$ it would perform $R_2$ on qubit 0. Each rotation gate has this form: \n",
    "\n",
    "$$\n",
    "R_m = R_z(\\theta_m) = \\begin{bmatrix} 1 & 0 \\\\ 0 & e^{i2\\pi/M} \\end{bmatrix}\n",
    "$$\n",
    "\n",
    "Where $M = 2^m$ and the corresponding rotation angle is $\\theta_m = 2\\pi/M$ \n",
    "\n",
    "You can check out [a nice demo on Wolfram](https://demonstrations.wolfram.com/QuantumFourierTransformCircuit/)\n",
    "\n",
    "Your task is to generate the circuit for the QFT for two qubits\n",
    "\n",
    "### Bonus conceptual questions\n",
    "- What do you expect the final state from  $ QFT\\ket{0}$?\n",
    "- What does the Quantum Fourier Transform of 1 qubit look like?"
   ]
  },
  {
   "cell_type": "code",
   "execution_count": null,
   "metadata": {},
   "outputs": [],
   "source": [
    "F2 = QuantumCircuit(2)\n",
    "\n",
    "### YOUR CODE HERE ###\n",
    "\n",
    "#put Hadamard on qubit 0 \n",
    "\n",
    "# Do controlled z with qubit 1 as control, qubit 0 as target\n",
    "\n",
    "# Put a Hadamard on qubit 1\n",
    "\n",
    "### YOUR CODE ENDS ###\n",
    "\n",
    "F2.measure_all()\n",
    "\n",
    "F2.draw()"
   ]
  },
  {
   "cell_type": "code",
   "execution_count": null,
   "metadata": {},
   "outputs": [],
   "source": [
    "# What do you expect to get as output\n",
    "\n",
    "job = sim.run(F2)          # run the experiment on ideal simulator\n",
    "result = job.result()                      # get the results\n",
    "counts = result.get_counts()               # interpret the results as a \"counts\" dictionary\n",
    "print(counts)\n",
    "plot_histogram(counts)"
   ]
  },
  {
   "cell_type": "markdown",
   "metadata": {},
   "source": [
    "## Challenge Question 1: Reveal the period\n",
    "\n",
    "In assignment 3, the QFT was shown to reveal the periodicity within a quantum state. Here we will show how this works. We had this state\n",
    "\n",
    "$$\n",
    "\\ket{\\psi} = \\begin{bmatrix} 1 \\\\ -1 \\\\ 1 \\\\ -1 \\end{bmatrix}\n",
    "$$\n",
    "\n",
    "1. Write this state as a product state \n",
    "\n",
    "> Hint: write out the tensor product as \n",
    ">\n",
    "> $$\n",
    " \\ket{\\psi} = \\ket{\\psi_0} \\otimes \\ket{\\psi_1} = \\begin{bmatrix} a_0 b_0 \\\\ a_0 b_1 \\\\ a_1b_0 \\\\ a_1 b_1 \\end{bmatrix}\n",
    "> $$\n",
    "> And solve for $\\ket{\\psi_0} \\ket{\\psi_1}$\n",
    "\n",
    "\n",
    "2. Design a circuit to generate this product state using only single qubit gates."
   ]
  },
  {
   "cell_type": "code",
   "execution_count": null,
   "metadata": {},
   "outputs": [],
   "source": [
    "state_prep_circ = QuantumCircuit(2)\n",
    "\n",
    "### YOUR CODE HERE ###\n",
    "\n",
    "### YOUR CODE ENDS ###\n",
    "\n",
    "\n",
    "state_prep_circ.draw()"
   ]
  },
  {
   "cell_type": "code",
   "execution_count": null,
   "metadata": {},
   "outputs": [],
   "source": [
    "period_circ = state_prep_circ + F2\n",
    "\n",
    "period_circ.swap(0,1) # we also need to swap the order of the qubits\n",
    "\n",
    "period_circ.measure_all()\n",
    "\n",
    "job = sim.run(period_circ)          # run the experiment on ideal simulator\n",
    "result = job.result()                      # get the results\n",
    "counts = result.get_counts()               # interpret the results as a \"counts\" dictionary\n",
    "print(counts)\n",
    "plot_histogram(counts)"
   ]
  },
  {
   "cell_type": "markdown",
   "metadata": {},
   "source": [
    "## Challenge Question2 : Efficient entanglement generation \n",
    "\n",
    "There are quantum algorithms where we need to entangle a lot of qubits together. The choice of how you do this can make a huge difference in how well the circuit performs. \n",
    "\n",
    "This question has been adapted from IBM's Qiksit Global Summer School 2022. "
   ]
  },
  {
   "cell_type": "code",
   "execution_count": null,
   "metadata": {},
   "outputs": [],
   "source": [
    "qc = QuantumCircuit(16)\n",
    "\n",
    "#Step 1: Preparing the first qubit in superposition\n",
    "qc.h(0)\n",
    "\n",
    "#Step 2: Entangling all other qubits with it (1 is included 16 is excluded)\n",
    "# for x in range(1, 16):\n",
    "#   qc.cx(0,x)\n",
    "\n",
    "[qc.cx(0,x) for x in range(1, 16)]\n",
    "\n",
    "print(f\"Depth of circuit is {qc.depth()}\")\n",
    "\n",
    "qc.draw()"
   ]
  },
  {
   "cell_type": "markdown",
   "metadata": {},
   "source": [
    "This circuit  has a depth equal to the number of entangling operations +1, in this case, that is 16. So by the time we entangle q_0 with q_15, there has been considerable decoherence in the entanglement between q_0 & q_1. Thankfully, we can do a lot better. Instead we can entangle our qubits in parallel. \n",
    "\n",
    "Your mission, should you choose to accept it, is to creat a circit that does the same as the one above, but runs in a depth of 4 (+1 for the hadamard at the start)"
   ]
  },
  {
   "cell_type": "code",
   "execution_count": null,
   "metadata": {},
   "outputs": [],
   "source": [
    "efficent_ent = QuantumCircuit(16) #Same as above\n",
    "\n",
    "#Step 1: Preparing the first qubit in superposition\n",
    "qc.h(0)\n",
    "\n",
    "\n",
    "### YOUR CODE HERE ###\n",
    "\n",
    "#### END \n",
    "\n",
    "\n",
    "print(f\"Depth of circuit is {efficent_ent.depth()}\")\n",
    "efficent_ent.draw()"
   ]
  },
  {
   "cell_type": "code",
   "execution_count": null,
   "metadata": {},
   "outputs": [],
   "source": [
    "# Run this if you want to share information about your system\n",
    "\n",
    "import qiskit.tools.jupyter\n",
    "%qiskit_version_table"
   ]
  }
 ],
 "metadata": {
  "kernelspec": {
   "display_name": "Python 3.8.5 ('base')",
   "language": "python",
   "name": "python3"
  },
  "language_info": {
   "codemirror_mode": {
    "name": "ipython",
    "version": 3
   },
   "file_extension": ".py",
   "mimetype": "text/x-python",
   "name": "python",
   "nbconvert_exporter": "python",
   "pygments_lexer": "ipython3",
   "version": "3.8.5"
  },
  "orig_nbformat": 4,
  "vscode": {
   "interpreter": {
    "hash": "ad2bdc8ecc057115af97d19610ffacc2b4e99fae6737bb82f5d7fb13d2f2c186"
   }
  }
 },
 "nbformat": 4,
 "nbformat_minor": 2
}
