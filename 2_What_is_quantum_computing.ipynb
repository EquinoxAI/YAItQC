{
 "cells": [
  {
   "cell_type": "markdown",
   "metadata": {},
   "source": [
    "## 2. What is quantum computing\n",
    "\n",
    "In the previous chapter, some of the fundamental concepts of quantum mechanics were introduced and their relevance to quantum computing was briefly explained. Building on that, this chapter will provide a bit more detail on how quantum computers employ such esoteric, exotic pheomena for practical applications."
   ]
  },
  {
   "cell_type": "markdown",
   "metadata": {},
   "source": [
    "### 2.1 More than flipping coins \n",
    "\n",
    "The example of coins being flipped can be helpful in explaining how quantum effects behave but it would be rather inpractical to use coins as a method of quantum information processing: quantum computation. There are a few obvious reasons for this: \n",
    "\n",
    "- Flipping coins is not very fast. Conventional computers (CPUs) have a clock speed in the GHz or billions of complete clock cycles per second. We would need an astronomical number of coins to try and replicate that. \n",
    "\n",
    "- Flipping coins can only really be used to generate random numbers. Beyond the conventional deterministic computing operations we can already do, the only real advantage from quantum theory would be the 'random' nature of the coin flips. \n",
    "\n",
    "- Sticking coins together is even slower than just flipping them. Not to mention the part where they get shuffled in a pseudorandom way. \n",
    "\n",
    "In other words, a practical quantum computer would, as one might expect, need to be a quantum system that can be controlled effectively and efficiently to carry out useful computations.  "
   ]
  },
  {
   "cell_type": "code",
   "execution_count": null,
   "metadata": {},
   "outputs": [],
   "source": []
  },
  {
   "cell_type": "markdown",
   "metadata": {},
   "source": [
    "### "
   ]
  },
  {
   "cell_type": "markdown",
   "metadata": {},
   "source": [
    "### 2.4 Quantum Advantage \n"
   ]
  }
 ],
 "metadata": {
  "language_info": {
   "name": "python"
  },
  "orig_nbformat": 4
 },
 "nbformat": 4,
 "nbformat_minor": 2
}
