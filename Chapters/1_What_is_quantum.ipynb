{
 "cells": [
  {
   "cell_type": "markdown",
   "metadata": {},
   "source": [
    "# Yet Another Introduction to Quantum Computing\n",
    "\n",
    "*I will simply express my strong belief, that that point of self-education which consists in teaching the mind to resist its desires and inclinations, until they are proved to be right, is the most important of all, not only in things of natural philosophy, but in every department of dally life.* Michael Faraday (1859) [1]\n",
    "\n",
    "\n",
    "This jupyter book (to be compliled) is a collection of notebooks introducing the funadmentals of quantum computation, including a preliminary introduction to quantum mechanics assuming an elementary background in mathematics. \n",
    "\n",
    "## 1. What is Quantum?\n",
    "\n",
    "### 1.1 That thing with the cats?\n",
    "\n",
    "In popular culture there exist many rather romanticised depictions of quantum technologies, particularly in the genre of science fiction. These are very widely innacurate and the many misconceptions widely held by the public about what quantum mechanics allows and this is especially true of quantum computation. \n",
    "\n",
    "### 1.2 How many physicists does it take to change a lightbulb?\n",
    "\n",
    "In the early 20th century, a German physicist (by the cool name of Max Planck) was tasked with modelling the emission of light from a filament bulb (basically a wire that gets hot enough to glow). He came up with what is known as the black body radiation spectrum. You may be wondering why such trivia has been included in a textbook about quantum computing. It turns out, from his model, the energy emitted by an object with a finite temperature is not emitted in a continuous spectrum. That's to say rather than all possible wavelengths of light being emitted by this bulb only certain wavelengths were allowed. This is known as a discrete spectrum. What this in turn means is that energy is emitted is chunks, or *quanta*, with a well defined energy. We can't have energy between these chunks. It's a bit like walking up the stairs; you can only step on specific heights and you can't really leave your foot suspended between steps for too long. \n",
    "\n",
    "This concept of quantisation of energy is where the quantum comes from. Whilst this concept is less significant to quantum computing, it is still worth mentioning. The reason for this is that the transistor that powers all digital electronics is built upon this concept. Thus all computations using this technology (the integrated circuit) are computers running on quantum mechanics. Which is not to say they are quantum computers simply that they are fundamentally built upon quantum physics, as are you, I and everything we can see and touch. \n",
    "\n",
    "Beyond the quantisation of energy, there are quantum phenomena which are very much more significant to quantum computing: *superposition & entanglement*. \n",
    "\n",
    "### 1.3 So what happened to that cat?\n",
    "\n",
    "You may have heard of a very special cat associated with another German physicist, Schrodinger. In thi analogy, a cat is kept inside a black box that the observer can't view inside. Within the box, there is also a vial of posion with a radioactive source. The radioactive source has an equal probability of decaying or not decaying in a particular time interval. If the source decays, the poison is released and the cat dies. otherwise the cat is just fine. Until the observer opens the box they don't know if the cat is dead or alive. Schrodinger came up with this analogy to explain why quantum mechanics was so controversial for physicists that had been able to do very well with classical physics until the turn of the 20th century. This analogy is effective but is far removed from the everyday experiences one has, so another analogy can be made that encapsulates the same physics. \n",
    "\n",
    "It is as simple as tossing a coin.\n",
    "\n",
    "A normal coin has two faces: heads & tails. Assuming the coin is unbiased, When the coin is tossed there should be an equal probability of landing on a heads, $P(H)$ or a tails, $P(T)$, both equal to $1/2$. Here the extremely unlikely case where the coin lands on its round edge is not really considered. When the coin has not yet landed, we can say it is in a particular state where it is *like being both* heads and tails at the same time. That's not to say there is 1 coin with a heads and another coin that is a tails*, but more that there is some uncertainty in the state of the coin. \n",
    "\n",
    "In quantum mechaincs we call this particular state a *superposition*. And this is the sate we say the Schrodinger's cat is in before the box is opened. The concept of looking at the coin, or opening the box, is what in quantum mechanics is known as *performing a measurement*.\n",
    "\n",
    "$*$ According to the many worlds interpretation of quantum mechanics it is not quite so simple...\n",
    "### 1.4 Not so spooky action at a distance\n",
    "\n",
    "The more conceptually difficult phenomena quintesential to quantum computing can also be explained using coins (but with one small modification). For this example 2 coins will be required. \n",
    "\n",
    "Tossing two unbiased coins is effectively the same as tossing the same coin twice and recording the outcome each time. Guessing whether the coin is H or T is 50% for each coin or 25% for getting both of them correct. \n",
    "\n",
    "For the next step some removeable adhesive will be required. Imagine placing the coins together with each coin having the H facing outwards and the T's stuck together to make one coin twice as thick. Tossing this coin will always result in one coin with the H facing upwards. But before the coin is revealed, the two coins are seperated. The coin at the bottom must have it's T side up, leaving 2 coins one H and the other T. After shuffling the coins they are seperated. \n",
    "\n",
    "At this point, guessing either of the coin would have a 50% chance of getting the right outcome- the same as for two coins tossed seperately. \n",
    "\n",
    "But if only one of the coins is revealed, say the H coin, then it is instantly known that the other one must be a T. Suddenly guessing the state of the second coin has a 100% chance of success whereas with the seperate coin tosses revealing one made no difference to guessing the other. These linked probabilities is what is known as an *entangled state*.\n",
    "\n",
    "### 1.5 Quantum Technology \n",
    "\n",
    "Quantum Technologies, as they are defined by John Morton, director of UCLQ (as of the time of writing) are *\"ones which exploit quantum superposition and entanglement to achieve major advances over current technologies in areas including communication, sensing and information processing.\"*\n",
    "\n",
    "These are devices that take advantage of the aforementioned pheomena for practical applications to do something better than what can be done without using them. Quantum computation is one of the most exciting quantum technologies even if it is much less mature than others like quantum metrology (sensing) and encryption (communications)."
   ]
  },
  {
   "cell_type": "markdown",
   "metadata": {},
   "source": [
    "### Refrences\n",
    "\n",
    "[1] Micheal Faraday, 1859 “Experimental researches in Chemistry and Physics ... Reprinted from the Philosophical Transactions of 1821-1857; the Journal of the Royal Institution ... and other publications”, p.477"
   ]
  }
 ],
 "metadata": {
  "language_info": {
   "name": "python"
  },
  "orig_nbformat": 4
 },
 "nbformat": 4,
 "nbformat_minor": 2
}
