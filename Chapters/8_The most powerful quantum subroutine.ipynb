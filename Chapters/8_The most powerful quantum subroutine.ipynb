{
 "cells": [
  {
   "cell_type": "markdown",
   "metadata": {},
   "source": [
    "## The most powerful numerical algorithm\n",
    "\n",
    "*Mathematical analysis is as extensive as nature itself; it defines all perceptible relations, measures times, spaces, forces, temperatures:;; this difficult science is formed slowly, but it preserves every principle which it has once acquired; it grows and strengthens itself incessantly in the midst of the many variations and errors of the human mind. It's chief attribute is clearness; it has no marks to express confused notations. It brings together phenomena the most diverse, and discovers the hidden analogies which unite them.* - Joseph Fourier, The Analytical Theory of Heat (1878) \n",
    "\n",
    "This chapter is atypical of the rest of this textbook. Here a rather lengthy historical introduction is given in an attempt to convey the power of what could be considered the most powerful quantum algorithm. \n",
    "\n",
    "## Signal processing \n",
    "\n",
    "Waves surround us. Light travels from the sun to our eyes and sound travels from vibrating objects to our ears and those two waves comprise much of our experience of reality. For both light and sound, what we are sensitive to is small changes of intensity, the power per unit area, that the complex network of our sense organs and brain are able to process and interpret as what we see and hear. In engineering, signal processing is extremley important in telecommunications and in physics there are insights we can gain about the nature of solids by performing a similar analysis. In the latter two cases, the mathematics we use to acomplish these tasks is described by various Fourier Transforms. \n",
    "\n",
    "In 1822, French mathematicican, Joseph Fourier \n",
    "\n",
    "\n",
    "\n",
    "\n"
   ]
  }
 ],
 "metadata": {
  "language_info": {
   "name": "python"
  },
  "orig_nbformat": 4
 },
 "nbformat": 4,
 "nbformat_minor": 2
}
