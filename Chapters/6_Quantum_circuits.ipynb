{
 "cells": [
  {
   "cell_type": "markdown",
   "metadata": {},
   "source": [
    "## 4 Quantum Circuits\n",
    "\n",
    "A quantum ciruit is a diagram that codifies how entanglement and superposition can be implemented on a set of qubits and measured in order to carry out a specific quantum algorithm. "
   ]
  }
 ],
 "metadata": {
  "language_info": {
   "name": "python"
  },
  "orig_nbformat": 4
 },
 "nbformat": 4,
 "nbformat_minor": 2
}
