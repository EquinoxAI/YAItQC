{
 "cells": [
  {
   "cell_type": "markdown",
   "metadata": {},
   "source": [
    "## 3.2 Linear Algebra \n",
    "\n",
    "Like trigonometry, linear algebra underpins most of physics, engineering and computer science. Its importance is difficult to overstate. In 1939, Paul Dirac reformulated quantum mechanics using linear algebra [1]. His contributions to the development of quantum theory are signifcant and the notation used to describe quantum states with vectors is known as Dirac notation (to be discussed in later chapters). There are two key elements to linear algebra: vectors and matrices. \n",
    "\n",
    "# 3 The mathematical minium \n",
    "\n",
    "### 3.2.1 Vectors\n",
    "\n",
    "Vectors can be introduced as objects that have both direction & magnitude. Velocity is a vector because it has a magnitude, the speed at which the object travels with, and a direction, where it's moving towards. In linear algebra, a vector can be denoted by putting an arrow over a letter as $ \\vec{v} $ .\n",
    "\n",
    "Imagine a car travelling diagonally across a road. At the same time, the car is travelling along the direction of the road as well as perpendicularly across the road. It can be said that the velocity of the car has a component pointing along the road and another component across the road. \n",
    "\n",
    "What makes vectors useful to work with is the fact that a vector has components. These are the individual magnitudes of the vector in each direction. We can encode the speed of the car along the road ($v_{alon}$)and the speed of the car across the road ($v_{acro}$) in a vector with two components: \n",
    "\n",
    "\n",
    "$$\n",
    "\\vec{v} = \n",
    "\\begin{bmatrix}\n",
    "v_{alon} \\\\ v_{acro}\n",
    "\\end{bmatrix}\n",
    "$$\n",
    "\n",
    "### 3.2.2 Matrices\n",
    "\n",
    "\n",
    "\n",
    "### 3.2.3 What's a tensor?\n",
    "\n",
    "Matrices and vectors are both elements of what is more generally known as a tensor. In the area of physics it has become something of a running joke the fact that many physicists use tensors regularly but do not completley understand what  they are. As this is not indended to be a maths textbook, tensors will not be properly defined here. \n",
    "\n",
    "The reason they are still worth mentioning is that the concept of what a tensor is, and the tensor product, is very much vital for a solid foundation in quantum computing. As the course progresses these two concepts may need to be introduced more formally. "
   ]
  }
 ],
 "metadata": {
  "language_info": {
   "name": "python"
  },
  "orig_nbformat": 4
 },
 "nbformat": 4,
 "nbformat_minor": 2
}
