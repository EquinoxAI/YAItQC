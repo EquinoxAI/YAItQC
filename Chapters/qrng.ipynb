{
 "cells": [
  {
   "cell_type": "code",
   "execution_count": null,
   "metadata": {},
   "outputs": [],
   "source": [
    "%matplotlib\n",
    "\n",
    "import numpy as np\n",
    "import matplotlib.pyplot as plt\n",
    "# Importing standard Qiskit libraries\n",
    "from qiskit import QuantumCircuit,execute, transpile, Aer, IBMQ\n",
    "from qiskit.tools.jupyter import *\n",
    "from qiskit.visualization import *\n",
    "from ibm_quantum_widgets import *\n",
    "from qiskit.providers.aer import QasmSimulator\n",
    "from qiskit import IBMQ\n",
    "plt.style.use('seaborn')\n",
    "# Loading your IBM Quantum account(s)\n",
    "provider = IBMQ.load_account()"
   ]
  },
  {
   "cell_type": "code",
   "execution_count": null,
   "metadata": {},
   "outputs": [],
   "source": [
    "IBMQ.load_account()\n",
    "IBMQ.providers()"
   ]
  },
  {
   "cell_type": "code",
   "execution_count": null,
   "metadata": {},
   "outputs": [],
   "source": [
    "provider = IBMQ.get_provider(hub='ibm-q')\n",
    "provider.backends()\n",
    "backend = provider.get_backend('ibmq_bogota')\n",
    "backend"
   ]
  },
  {
   "cell_type": "code",
   "execution_count": null,
   "metadata": {},
   "outputs": [],
   "source": [
    "\n",
    "n = 10                         #Random integer maximum\n",
    "numbers = 8\n",
    "print(\"Generate {} random number(s) in the range [1,{}]\".format(numbers,n))\n",
    "nb = bin(n)                     #binary representation of n\n",
    "\n",
    "nq = len(str(nb)) -2            #Number of qubits requierd\n",
    "\n",
    "print(\"{} qubits will be required\".format(nq))\n",
    "\n",
    "qrng = QuantumCircuit(nq)       #Define our quantum circuit\n",
    "\n",
    "for i in range(nq ):            #Place a Hadamard on each qubit\n",
    "    qrng.h(i)\n",
    "\n",
    "qrng.measure_all()              #Measure all Qubits\n",
    "qrng.draw()\n",
    "\n",
    "#Execute the quantum circuit and store the results\n",
    "counts = execute(qrng,Aer.get_backend('qasm_simulator'),shots = 10000).result().get_counts() \n",
    "fig =  plot_histogram(counts) #Show results as historgram"
   ]
  },
  {
   "cell_type": "code",
   "execution_count": null,
   "metadata": {},
   "outputs": [],
   "source": [
    "#%matplotlib inline\n",
    "%matplotlib\n",
    "legend = [i for i in range(16)]\n",
    "\n",
    "\n",
    "plot_histogram(counts, title = 'Histogram of random numbers', bar_labels=False)"
   ]
  },
  {
   "cell_type": "code",
   "execution_count": null,
   "metadata": {},
   "outputs": [],
   "source": [
    "nr =[] #Store random numbers in a list\n",
    "\n",
    "j = 0\n",
    "while j < numbers:\n",
    "    for i in counts: #Sample all the counts\n",
    "    \n",
    "        k = int(i,2)\n",
    "        if k < n:\n",
    "            nr.append(k)\n",
    "            j = j+  1\n",
    "            \n",
    "print(nr)"
   ]
  },
  {
   "cell_type": "code",
   "execution_count": null,
   "metadata": {},
   "outputs": [],
   "source": [
    "seed = np.random.randint(100,200)\n",
    "\n",
    "print(seed)\n",
    "r1 = seed**2\n",
    "print(r1)\n"
   ]
  },
  {
   "cell_type": "code",
   "execution_count": null,
   "metadata": {},
   "outputs": [],
   "source": [
    "print(nr)\n",
    "print(type(nr[0]))"
   ]
  },
  {
   "cell_type": "code",
   "execution_count": null,
   "metadata": {},
   "outputs": [],
   "source": [
    "\n",
    "# Loading your IBM Quantum account(s)\n",
    "provider = IBMQ.load_account()\n",
    "\n",
    "\n",
    "n = 2020 \n",
    "nb = bin(n)\n",
    "\n",
    "print(nb)\n",
    "\n",
    "nq = len(str(nb)) -2\n",
    "\n",
    "print(nq)\n"
   ]
  },
  {
   "cell_type": "code",
   "execution_count": null,
   "metadata": {},
   "outputs": [],
   "source": [
    "#Runnning on IBM Santiago\n",
    "\n",
    "backend = provider.get_backend('ibmq_santiago')\n",
    "\n",
    "n = 10                         #Random integer maximum\n",
    "numbers = 8                     #Number of random numbers\n",
    "nb = bin(n)                     #binary representation of n\n",
    "nr =[]                          #Store random numbers in a list\n",
    "nq = len(str(nb)) -2            #Number of qubits requierd\n",
    "\n",
    "qrng = QuantumCircuit(nq)       #Define our quantum circuit#\n",
    "for i in range(nq):            #Place a Hadamard on each qubit\n",
    "    qrng.h(i)\n",
    "qrng.measure_all()              #Measure all Qubits\n",
    "#Execute the quantum circuit and store the results\n",
    "counts = execute(qrng,backend,shots = 1000).result().get_counts() \n",
    "\n",
    "j = 0\n",
    "while j < numbers:\n",
    "    for i in counts: #Sample all the counts\n",
    "    \n",
    "        k = int(i,2)\n",
    "        if k < n:\n",
    "            nr.append(k)\n",
    "            j = j+  1\n",
    "            \n",
    "plot_histogram(counts) #Show results as historgram\n",
    "print(nr)"
   ]
  },
  {
   "cell_type": "code",
   "execution_count": null,
   "metadata": {},
   "outputs": [],
   "source": [
    "#Random Number generator\n",
    "\n",
    "backend = Aer.get_backend('qasm_simulator')\n",
    "\n",
    "nmax = 31                       #Random integer maximum\n",
    "nr =[]                          #Store random numbers in a list\n",
    "n = 8                           #Number of random numbers\n",
    "nb = bin(nmax)                  #binary representation of n\n",
    "nq = len(str(nb)) -2            #Number of qubits requierd\n",
    "\n",
    "qrng = QuantumCircuit(nq)       #Define our quantum circuit\n",
    "for i in range(nq ):            #Place a Hadamard on each qubit\n",
    "    qrng.h(i)\n",
    "qrng.measure_all()              #Measure all Qubits\n",
    "\n",
    "#Execute the quantum circuit and store the results\n",
    "counts = execute(qrng,backend,shots = 1000).result().get_counts() \n",
    "\n",
    "j = 0\n",
    "while j < n:\n",
    "    for i in counts:            #Sample all the counts\n",
    "    \n",
    "        k = int(i,2)            #convert from binary back to decimal\n",
    "        if k < n :              #add to the list if they are less than nmax\n",
    "            nr.append(k)\n",
    "            j = j+  1\n",
    "print(nr)\n",
    "\n",
    "\n",
    "qrng.draw()"
   ]
  }
 ],
 "metadata": {
  "interpreter": {
   "hash": "b3ba2566441a7c06988d0923437866b63cedc61552a5af99d1f4fb67d367b25f"
  },
  "kernelspec": {
   "display_name": "Python 3.8.5 64-bit ('base': conda)",
   "name": "python3"
  },
  "language_info": {
   "codemirror_mode": {
    "name": "ipython",
    "version": 3
   },
   "file_extension": ".py",
   "mimetype": "text/x-python",
   "name": "python",
   "nbconvert_exporter": "python",
   "pygments_lexer": "ipython3",
   "version": "3.8.5"
  },
  "orig_nbformat": 4
 },
 "nbformat": 4,
 "nbformat_minor": 2
}
