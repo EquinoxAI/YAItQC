{
 "cells": [
  {
   "cell_type": "code",
   "execution_count": 3,
   "source": [
    "import numpy as np\r\n",
    "import matplotlib.pyplot as plt\r\n",
    "# Importing standard Qiskit libraries\r\n",
    "from qiskit import QuantumCircuit,execute, transpile, Aer, IBMQ\r\n",
    "from qiskit.tools.jupyter import *\r\n",
    "from qiskit.visualization import *\r\n",
    "from ibm_quantum_widgets import *\r\n",
    "from qiskit.providers.aer import QasmSimulator\r\n",
    "from qiskit import IBMQ\r\n",
    "plt.style.use('seaborn')\r\n",
    "# Loading your IBM Quantum account(s)\r\n",
    "provider = IBMQ.load_account()\r\n",
    "\r\n"
   ],
   "outputs": [
    {
     "output_type": "stream",
     "name": "stderr",
     "text": [
      "ibmqfactory.load_account:WARNING:2021-09-29 21:52:24,278: Credentials are already in use. The existing account in the session will be replaced.\n"
     ]
    }
   ],
   "metadata": {}
  },
  {
   "cell_type": "code",
   "execution_count": 4,
   "source": [
    "IBMQ.load_account()\r\n",
    "IBMQ.providers()"
   ],
   "outputs": [
    {
     "output_type": "stream",
     "name": "stderr",
     "text": [
      "ibmqfactory.load_account:WARNING:2021-09-29 21:52:28,015: Credentials are already in use. The existing account in the session will be replaced.\n"
     ]
    },
    {
     "output_type": "execute_result",
     "data": {
      "text/plain": [
       "[<AccountProvider for IBMQ(hub='ibm-q', group='open', project='main')>]"
      ]
     },
     "metadata": {},
     "execution_count": 4
    }
   ],
   "metadata": {}
  },
  {
   "cell_type": "code",
   "execution_count": 8,
   "source": [
    "provider = IBMQ.get_provider(hub='ibm-q')\r\n",
    "provider.backends()\r\n",
    "backend = provider.get_backend('ibmq_bogota')\r\n",
    "backend"
   ],
   "outputs": [
    {
     "output_type": "display_data",
     "data": {
      "application/vnd.jupyter.widget-view+json": {
       "version_major": 2,
       "version_minor": 0,
       "model_id": "c0be7a0234d84a13a5f31aaa9be4f9e9"
      },
      "text/plain": [
       "VBox(children=(HTML(value=\"<h1 style='color:#ffffff;background-color:#000000;padding-top: 1%;padding-bottom: 1…"
      ]
     },
     "metadata": {}
    },
    {
     "output_type": "execute_result",
     "data": {
      "text/plain": [
       "<IBMQBackend('ibmq_bogota') from IBMQ(hub='ibm-q', group='open', project='main')>"
      ]
     },
     "metadata": {},
     "execution_count": 8
    }
   ],
   "metadata": {}
  },
  {
   "cell_type": "code",
   "execution_count": 39,
   "source": [
    "\r\n",
    "n = 10                         #Random integer maximum\r\n",
    "numbers = 8\r\n",
    "print(\"Generate {} random number(s) in the range [1,{}]\".format(numbers,n))\r\n",
    "nb = bin(n)                     #binary representation of n\r\n",
    "\r\n",
    "nq = len(str(nb)) -2            #Number of qubits requierd\r\n",
    "\r\n",
    "print(\"{} qubits will be required\".format(nq))\r\n",
    "\r\n",
    "qrng = QuantumCircuit(nq)       #Define our quantum circuit\r\n",
    "\r\n",
    "for i in range(nq ):            #Place a Hadamard on each qubit\r\n",
    "    qrng.h(i)\r\n",
    "\r\n",
    "qrng.measure_all()              #Measure all Qubits\r\n",
    "qrng.draw()\r\n",
    "\r\n",
    "#Execute the quantum circuit and store the results\r\n",
    "counts = execute(qrng,Aer.get_backend('qasm_simulator'),shots = 10000).result().get_counts() \r\n",
    "fig =  plot_histogram(counts) #Show results as historgram\r\n"
   ],
   "outputs": [
    {
     "output_type": "stream",
     "name": "stdout",
     "text": [
      "Generate 8 random number(s) in the range [1,10]\n",
      "4 qubits will be required\n"
     ]
    }
   ],
   "metadata": {}
  },
  {
   "cell_type": "code",
   "execution_count": 63,
   "source": [
    "#%matplotlib inline\r\n",
    "%matplotlib\r\n",
    "legend = [i for i in range(16)]\r\n",
    "\r\n",
    "\r\n",
    "\r\n",
    "plot_histogram(counts, title = 'Histogram of random numbers', bar_labels=False)"
   ],
   "outputs": [
    {
     "output_type": "stream",
     "name": "stdout",
     "text": [
      "Using matplotlib backend: Qt5Agg\n"
     ]
    },
    {
     "output_type": "execute_result",
     "data": {
      "image/png": "[encoded data removed]",
      "text/plain": [
       "<Figure size 504x360 with 1 Axes>"
      ]
     },
     "metadata": {},
     "execution_count": 63
    }
   ],
   "metadata": {}
  },
  {
   "cell_type": "code",
   "execution_count": 5,
   "source": [
    "nr =[] #Store random numbers in a list\r\n",
    "\r\n",
    "j = 0\r\n",
    "while j < numbers:\r\n",
    "    for i in counts: #Sample all the counts\r\n",
    "    \r\n",
    "        k = int(i,2)\r\n",
    "        if k < n:\r\n",
    "            nr.append(k)\r\n",
    "            j = j+  1\r\n",
    "            \r\n",
    "print(nr)"
   ],
   "outputs": [
    {
     "output_type": "stream",
     "name": "stdout",
     "text": [
      "[2, 6, 3, 0, 5, 9, 1, 8, 7, 4]\n"
     ]
    }
   ],
   "metadata": {}
  },
  {
   "cell_type": "code",
   "execution_count": 6,
   "source": [
    "seed = np.random.randint(100,200)\r\n",
    "\r\n",
    "print(seed)\r\n",
    "r1 = seed**2\r\n",
    "print(r1)\r\n"
   ],
   "outputs": [
    {
     "output_type": "stream",
     "name": "stdout",
     "text": [
      "121\n",
      "14641\n"
     ]
    }
   ],
   "metadata": {}
  },
  {
   "cell_type": "code",
   "execution_count": null,
   "source": [],
   "outputs": [],
   "metadata": {}
  },
  {
   "cell_type": "code",
   "execution_count": 7,
   "source": [
    "print(nr)\r\n",
    "print(type(nr[0]))"
   ],
   "outputs": [
    {
     "output_type": "stream",
     "name": "stdout",
     "text": [
      "[2, 6, 3, 0, 5, 9, 1, 8, 7, 4]\n",
      "<class 'int'>\n"
     ]
    }
   ],
   "metadata": {}
  },
  {
   "cell_type": "code",
   "execution_count": 8,
   "source": [
    "\r\n",
    "# Loading your IBM Quantum account(s)\r\n",
    "provider = IBMQ.load_account()\r\n",
    "\r\n",
    "\r\n",
    "n = 2020 \r\n",
    "nb = bin(n)\r\n",
    "\r\n",
    "print(nb)\r\n",
    "\r\n",
    "nq = len(str(nb)) -2\r\n",
    "\r\n",
    "print(nq)\r\n"
   ],
   "outputs": [
    {
     "output_type": "stream",
     "name": "stderr",
     "text": [
      "ibmqfactory.load_account:WARNING:2021-09-26 16:35:30,379: Credentials are already in use. The existing account in the session will be replaced.\n"
     ]
    },
    {
     "output_type": "stream",
     "name": "stdout",
     "text": [
      "0b11111100100\n",
      "11\n"
     ]
    }
   ],
   "metadata": {}
  },
  {
   "cell_type": "code",
   "execution_count": 9,
   "source": [
    "#Runnning on IBM Santiago\r\n",
    "\r\n",
    "backend = provider.get_backend('ibmq_santiago')\r\n",
    "\r\n",
    "n = 10                         #Random integer maximum\r\n",
    "numbers = 8                     #Number of random numbers\r\n",
    "nb = bin(n)                     #binary representation of n\r\n",
    "nr =[]                          #Store random numbers in a list\r\n",
    "nq = len(str(nb)) -2            #Number of qubits requierd\r\n",
    "\r\n",
    "qrng = QuantumCircuit(nq)       #Define our quantum circuit#\r\n",
    "for i in range(nq):            #Place a Hadamard on each qubit\r\n",
    "    qrng.h(i)\r\n",
    "qrng.measure_all()              #Measure all Qubits\r\n",
    "#Execute the quantum circuit and store the results\r\n",
    "counts = execute(qrng,backend,shots = 1000).result().get_counts() \r\n",
    "\r\n",
    "j = 0\r\n",
    "while j < numbers:\r\n",
    "    for i in counts: #Sample all the counts\r\n",
    "    \r\n",
    "        k = int(i,2)\r\n",
    "        if k < n:\r\n",
    "            nr.append(k)\r\n",
    "            j = j+  1\r\n",
    "            \r\n",
    "plot_histogram(counts) #Show results as historgram\r\n",
    "print(nr)"
   ],
   "outputs": [
    {
     "output_type": "stream",
     "name": "stdout",
     "text": [
      "[0, 1, 2, 3, 4, 5, 6, 7, 8, 9]\n"
     ]
    }
   ],
   "metadata": {}
  },
  {
   "cell_type": "code",
   "execution_count": 10,
   "source": [
    "#Random Number generator\r\n",
    "\r\n",
    "backend = Aer.get_backend('qasm_simulator')\r\n",
    "\r\n",
    "nmax = 31                       #Random integer maximum\r\n",
    "nr =[]                          #Store random numbers in a list\r\n",
    "n = 8                           #Number of random numbers\r\n",
    "nb = bin(nmax)                  #binary representation of n\r\n",
    "nq = len(str(nb)) -2            #Number of qubits requierd\r\n",
    "\r\n",
    "qrng = QuantumCircuit(nq)       #Define our quantum circuit\r\n",
    "for i in range(nq ):            #Place a Hadamard on each qubit\r\n",
    "    qrng.h(i)\r\n",
    "qrng.measure_all()              #Measure all Qubits\r\n",
    "\r\n",
    "#Execute the quantum circuit and store the results\r\n",
    "counts = execute(qrng,backend,shots = 1000).result().get_counts() \r\n",
    "\r\n",
    "j = 0\r\n",
    "while j < n:\r\n",
    "    for i in counts:            #Sample all the counts\r\n",
    "    \r\n",
    "        k = int(i,2)            #convert from binary back to decimal\r\n",
    "        if k < n :              #add to the list if they are less than nmax\r\n",
    "            nr.append(k)\r\n",
    "            j = j+  1\r\n",
    "print(nr)"
   ],
   "outputs": [
    {
     "output_type": "stream",
     "name": "stdout",
     "text": [
      "[5, 2, 6, 4, 1, 3, 0, 7]\n"
     ]
    }
   ],
   "metadata": {}
  },
  {
   "cell_type": "code",
   "execution_count": 11,
   "source": [
    "%matplotlib\r\n",
    "qrng.draw()"
   ],
   "outputs": [
    {
     "output_type": "stream",
     "name": "stdout",
     "text": [
      "Using matplotlib backend: Qt5Agg\n"
     ]
    },
    {
     "output_type": "execute_result",
     "data": {
      "image/png": "[encoded data removed]",
      "text/plain": [
       "<Figure size 538.279x385.28 with 1 Axes>"
      ]
     },
     "metadata": {},
     "execution_count": 11
    }
   ],
   "metadata": {}
  }
 ],
 "metadata": {
  "orig_nbformat": 4,
  "language_info": {
   "name": "python",
   "version": "3.8.5",
   "mimetype": "text/x-python",
   "codemirror_mode": {
    "name": "ipython",
    "version": 3
   },
   "pygments_lexer": "ipython3",
   "nbconvert_exporter": "python",
   "file_extension": ".py"
  },
  "kernelspec": {
   "name": "python3",
   "display_name": "Python 3.8.5 64-bit ('base': conda)"
  },
  "interpreter": {
   "hash": "b3ba2566441a7c06988d0923437866b63cedc61552a5af99d1f4fb67d367b25f"
  }
 },
 "nbformat": 4,
 "nbformat_minor": 2
}