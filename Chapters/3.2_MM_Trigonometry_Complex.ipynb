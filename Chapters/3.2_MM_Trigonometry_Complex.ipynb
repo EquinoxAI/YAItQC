{
 "cells": [
  {
   "cell_type": "markdown",
   "metadata": {},
   "source": [
    "## 3.2 Trigonometry \n",
    "\n",
    "Trigonometry is defined as \"*the branch of mathematics dealing with the relations of the sides and angles of triangles and with the relevant functions of any angles*\" but for our use it is much better to consider trigonometry the study of rotations. \n",
    "\n",
    "Mathematically, a triangle can be made to any size but for quantum information only triangles with the longest side (the hypotenuse) equal to 1 need to be considered. All the triangles that satisfy this requirement can be drawn within a circle of radius 1 as shown below: \n",
    "\n",
    "![Unit_circle](Images\\TrigonometryUnitCircle_700.png)\n",
    "[2]\n",
    "\n",
    "The triangle here is defined by the angle $\\theta$ with a base of length $cos(\\theta)$ & a height of $ sin(\\theta)$. Using Pythagoras theorem, usually stated as $ a^2 +b^2 = c^2$ where $c$ is the hypotenuse and $a,b$ are the remaining sides, one may easily derive the important equation: \n",
    "\n",
    "$$ sin^2(\\theta) + cos^2(\\theta) = 1 $$\n",
    "\n",
    "From the perspective of quantum mechanics this equation is particularly nice because it forces the magnitude of the hypotenuse to be 1. \n",
    "\n",
    "In later chapters, quantum circuits will be described in terms of rotations around a higher dimensional sphere. \n",
    "\n"
   ]
  },
  {
   "cell_type": "markdown",
   "metadata": {},
   "source": [
    "## 3.3 Complicating the numbers \n",
    "\n",
    "So far everything in this textbook has been described using *real* numbers- that is the set numbers you can produce on most calculators. It seems that nature in it's infinite beauty calls for us to expand our set of numbers to better understand the fabric of reality. \n",
    "\n",
    "### 3.3.1 The square root of -1 \n",
    "\n",
    "There are two square roots of $4$: $+2$ & $-2$. For numbers that aren't integers there are algorithms we can run on our calculators to work out the roots to arbitrary precision. In physics there are many situtations in which the only valid solution to a particular equation calls for the square root of a negative number. To make this work, it is necessary to first define the square root of $-1$ as $i = \\sqrt{-1}$. \n",
    "\n",
    "Using some basic algebra we can factorise any surd (square root number) into a product of two surds $ \\sqrt{ab} = \\sqrt{a} \\times \\sqrt{b}$. This holds true for negative numbers allowing us to take the square root of any negative number by breaking it down into the square root of $-1$ and the postive magnitude of that number. This can be written as:\n",
    "\n",
    "$$ \\sqrt{-a} = \\sqrt{-1} \\times \\sqrt{a} $$\n",
    "\n",
    "$$ \\sqrt{-a} = \\pm i \\sqrt{a} $$\n",
    "For example the square root of $-4$ can be written as $+2i$, $-2i$\n",
    "These numbers that can be written as $ai$ are known as imaginary numbers. \n",
    "### 3.3.2 Complex numbers \n",
    "\n",
    "Imaginary numbers work similarly to the real numbers everyone uses on a  daily basis. One can divide, multiply, add & subtract them just as you can for real numbers. What this also means is that any of $ \\div ,\\times, +, - $ operations can be applied to a combination of both real and imaginary numbers. For instance, the positive root of $-4$, $2i$ can be added to $3$ as $3 + 2i $. Any such number that can be written as a sum of a real and imaginary number is called a *complex number*. More generally we can define this mathematically as:\n",
    "\n",
    "$$ z = a + ib $$\n",
    "\n",
    "Where $a$ and $b$ are purely real numbers. The real part of $z$ is known as $ Re(z) = a$ and similarly the imaginary component of is $ Im(z) = b$. \n",
    "\n",
    "### 3.3.3 The Argand Diagram\n",
    "\n",
    "![Argand_plane](Images\\A_plus_bi.svg)\n",
    "\n",
    "\n",
    "### 3.3.4 Complex conjugate\n",
    "\n",
    "![Complex_conjugate](Images\\Complex_conjugate_picture.svg.png)\n",
    " [3]\n",
    "\n",
    "### 3.3.5 Euler's formula\n",
    "\n",
    "Without going through all the steps of explaining where it came from, *Euler's formula* can be stated as:\n",
    "\n",
    "$$ e^{i \\theta} = cos(\\theta) + i sin(\\theta) $$\n",
    "\n",
    "The significance of this is that one can represent any complex number in this fasion simply by multiplying the left hand side by some magnitude. In the context of quantum information this object $ e^{i\\theta}$ is commonly referred to as a phase and is of exceptional importance. To explain why $\\theta$ is so significant would require its own chapter. Instead it shall be incorporated into later chapters as needed.\n",
    "\n",
    "\n",
    "### 3.3.5 $n^{th}$ roots of unity \n",
    "\n",
    "Using the Argand plane one can plot out the square roots of $1$ as $\\pm 1$. Combining this with Euler's formula one can represent the roots using the coresponding angles of $1 = e^{i\\theta_{0}}$ $;$ $\\theta_{0} = 0$,\n",
    "$1 = e^{i\\theta_{1}}$ $;$ $\\theta_{1} = \\pi$\n",
    "\n",
    "Below an example of the fifth roots of unity can be seen on the Argand plane:\n",
    "\n",
    "![Roots_of_unity](Images\\One5Root.svg)\n",
    "\n",
    "[4]\n",
    "\n",
    "### 3.4 The most beautiful equation\n",
    "\n",
    "*Like a Shakespearean sonnet that captures the very essence of love, or a painting that brings out the beauty of the human form that is far more than just skin deep, Euler's Equation reaches down into the very depths of existence.* - Keith Devlin. \n",
    "\n",
    "The beauty of Euler's identity lies in the way it uses so many important fundamental constants just once. Using Euler's formula and setting $\\theta = \\pi$ one obtains *Euler's identity*:\n",
    "\n",
    "$$ e^{i\\pi} + 1 = 0 $$"
   ]
  },
  {
   "cell_type": "markdown",
   "metadata": {},
   "source": [
    "## 3.5 Probability \n",
    "\n",
    "The world is an uncertain place, it always has been and always will be. \n",
    "\n",
    "Fortunately it is possible to make predictions about events which may happen in the future and thus to make plans accordingly. In some cases how likely an event is can be quantified by a probability. This can be given as a probability, for instance a 40% chance of rain, a fraction, for example a 1/2 chance of throwing a heads, or a decimal (less commonly used in conversation). In any case, when the probabilities for all possible outcomes are added up correctly they sum to 100% or 1. \n",
    "\n",
    "Quantum computing is inherently a method of manipulating probabilities in a very particular way. "
   ]
  },
  {
   "cell_type": "markdown",
   "metadata": {},
   "source": [
    "## References\n",
    "\n",
    "[1] Dirac, P. A. M. (1939). \"A new notation for quantum mechanics\". Mathematical Proceedings of the Cambridge Philosophical Society. 35 (3): 416–418. Bibcode:1939PCPS...35..416D. doi:10.1017/S0305004100021162.. Also see his standard text, The Principles of Quantum Mechanics, IV edition, Clarendon Press (1958), ISBN 978-0198520115\n",
    "\n",
    "[2]\n",
    "\n",
    "[3] By IkamusumeFan - Own work, CC BY-SA 4.0, https://commons.wikimedia.org/w/index.php?curid=42024951\n",
    "\n",
    "[4] By Loadmaster (David R. Tribble)This image was made by Loadmaster (David R. Tribble)Email the author: David R. TribbleAlso see my personal gallery at Google Photos - Own work, CC BY-SA 3.0, https://commons.wikimedia.org/w/index.php?curid=14878380"
   ]
  }
 ],
 "metadata": {
  "interpreter": {
   "hash": "dba8851dec06c95965c4b9acd8f4325acdb80444c005ae414d7a6bcd36173821"
  },
  "kernelspec": {
   "display_name": "Python 3.9.7 ('base')",
   "language": "python",
   "name": "python3"
  },
  "language_info": {
   "name": "python",
   "version": "3.9.7"
  },
  "orig_nbformat": 4
 },
 "nbformat": 4,
 "nbformat_minor": 2
}
