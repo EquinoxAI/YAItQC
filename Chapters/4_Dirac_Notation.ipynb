{
 "cells": [
  {
   "cell_type": "markdown",
   "metadata": {},
   "source": [
    "# 4 Dirac Notation\n",
    "\n",
    "When giving a quantum mechanical description of a physical system it is more convenient to use a suitable shorthand. In 1939 Paul Dirac came up with a notation that can describe quantum systems in a neat and effective manner. Dirac notation is used across all areas of quantum physics including quantum information. \n",
    "\n",
    "\n",
    "## 4.1 Bra-Ket not bracket \n",
    "\n",
    "\n",
    "To introduce this maths, it is still possible to continue with the coins. This time, if the coin is heads up, we will represent that by the ket (column vector): \n",
    "\n",
    "$$\n",
    "\\ket{Heads} = \n",
    "\n",
    "\\begin{bmatrix}\n",
    "1 \\\\ 0\n",
    "\\end{bmatrix}\n",
    "$$\n",
    "\n",
    "Similarly, the tails side up can be represented by the ket:\n",
    "\n",
    "$$\n",
    "\\ket{Tails} = \n",
    "\n",
    "\\begin{bmatrix}\n",
    "0 \\\\ 1\n",
    "\\end{bmatrix}\n",
    "$$\n",
    "\n",
    "When the coin is spinning in the air, the superposition state, this state can be represented by $\\ket{\\psi}$: \n",
    "\n",
    "$$\n",
    "\\ket{\\psi} = \\frac{1}{\\sqrt{2}}[\\ket{Heads} + \\ket{Tails}]\n",
    "$$\n",
    "\n",
    "Since the coin has a $\\frac{1}{2}$ probability of being in either heads or tails, one may have intuitively expected this state to have a $\\frac{1}{2}$ instead of $\\frac{1}{\\sqrt{2}}$. The reason for this is that in quantum mechanics, a state is described with an amplitude (the factor by which it is multiplied) proportional to the square root of the probability. \n",
    "\n",
    "Instead, if there were a biased coin which had a probability of heads given by $P$, the probability of tails would then be $1-P$.  The state of the spinning coin could be represented as:\n",
    "\n",
    "$$\n",
    "\\ket{\\psi} = \\sqrt{P}\\ket{Heads} + \\sqrt{1-P}\\ket{Tails}\n",
    "$$\n",
    "\n",
    "## 4.2 Inner product \n",
    "\n",
    "With Dirac notaion, the probability of an outcome can be calculated. \n",
    "\n"
   ]
  }
 ],
 "metadata": {
  "language_info": {
   "name": "python"
  },
  "orig_nbformat": 4
 },
 "nbformat": 4,
 "nbformat_minor": 2
}
