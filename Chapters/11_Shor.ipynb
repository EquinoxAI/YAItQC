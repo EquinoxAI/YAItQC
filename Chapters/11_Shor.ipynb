{
 "cells": [
  {
   "cell_type": "markdown",
   "metadata": {},
   "source": [
    "## Shor's Algorithm \n",
    "\n",
    "Probably the most famous quantum algorithm, Shor's algorithm is an example of a quantum algorithm *exponentially* faster than the best classical algorithm. \n",
    "\n",
    "In addition to being fast, Shor's algorithm has immense practical utility. \n",
    "\n",
    "## Decrypting encryption \n",
    "\n",
    "## Y2Q"
   ]
  },
  {
   "cell_type": "code",
   "execution_count": 1,
   "metadata": {},
   "outputs": [
    {
     "name": "stdout",
     "output_type": "stream",
     "text": [
      "Using matplotlib backend: Qt5Agg\n"
     ]
    }
   ],
   "source": [
    "#Shor's\n",
    "\n",
    "# TODO: Make this more readable on laptops\n",
    "\n",
    "import numpy as np\n",
    "from numpy import * #Use with caution as this causes packages to mess with each other\n",
    "import matplotlib.pyplot as plt\n",
    "from matplotlib.widgets import Slider, Button\n",
    "import random\n",
    "%matplotlib \n",
    "plt.style.use('default')\n",
    "\n",
    "\n",
    "# The parametrized function to be plotted\n",
    "def f(x , a):\n",
    "    return 10/a * x**3\n",
    "\n",
    "x = np.linspace(0, 100, 1000)\n",
    "\n",
    "\n",
    "# Define initial parameters\n",
    "\n",
    "a = 1\n",
    "\n",
    "# Create the figure and the line that we will manipulate\n",
    "fig, ax = plt.subplots()\n",
    "line, = plt.plot(x, f(x, a), label = 'Quantum factorisation')\n",
    "g = np.exp(x**1/3)\n",
    "plt.plot(x,g, label = 'Classical Factorisation' )\n",
    "ax.set_xlabel('Size of problem')\n",
    "ax.set_ylabel('Time taken to solve')\n",
    "ax.set_yscale('log')\n",
    "ax.set_title(\"Shor's Factoring Algorithm\")\n",
    "\n",
    "\n",
    "# adjust the main plot to make room for the sliders\n",
    "plt.subplots_adjust(bottom=0.25)\n",
    "\n",
    "# Make a horizontal slider to control the frequency.\n",
    "axfreq = plt.axes([0.25, 0.1, 0.65, 0.03])\n",
    "speed_slider = Slider(\n",
    "    ax=axfreq,\n",
    "    label='Speed of Quantum Computer',\n",
    "    valmin=0.1,\n",
    "    valmax= 1,\n",
    "    valinit=0.1,\n",
    ")\n",
    "\n",
    "# The function to be called anytime a slider's value changes\n",
    "def update(val):\n",
    "    line.set_ydata(f(x, speed_slider.val))\n",
    "    fig.canvas.draw_idle()\n",
    "\n",
    "\n",
    "# register the update function with each slider\n",
    "speed_slider.on_changed(update)\n",
    "\n",
    "# Create a `matplotlib.widgets.Button` to reset the sliders to initial values.\n",
    "resetax = plt.axes([0.8, 0.025, 0.1, 0.04])\n",
    "button = Button(resetax, 'Reset', hovercolor='0.975')\n",
    "\n",
    "\n",
    "def reset(event):\n",
    "    speed_slider.reset()\n",
    "button.on_clicked(reset)\n",
    "\n",
    "plt.show()"
   ]
  }
 ],
 "metadata": {
  "kernelspec": {
   "display_name": "Python 3.8.5 ('base')",
   "language": "python",
   "name": "python3"
  },
  "language_info": {
   "codemirror_mode": {
    "name": "ipython",
    "version": 3
   },
   "file_extension": ".py",
   "mimetype": "text/x-python",
   "name": "python",
   "nbconvert_exporter": "python",
   "pygments_lexer": "ipython3",
   "version": "3.8.5"
  },
  "orig_nbformat": 4,
  "vscode": {
   "interpreter": {
    "hash": "ad2bdc8ecc057115af97d19610ffacc2b4e99fae6737bb82f5d7fb13d2f2c186"
   }
  }
 },
 "nbformat": 4,
 "nbformat_minor": 2
}
