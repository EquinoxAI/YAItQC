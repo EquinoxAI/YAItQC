{
 "cells": [
  {
   "cell_type": "markdown",
   "metadata": {},
   "source": [
    "## 2. What is quantum computing\n",
    "\n",
    "In the previous chapter, some of the fundamental concepts of quantum mechanics were introduced and their relevance to quantum computing was briefly explained. Building on that, this chapter will provide a bit more detail on how quantum computers employ such esoteric, exotic pheomena for practical applications."
   ]
  },
  {
   "cell_type": "markdown",
   "metadata": {},
   "source": [
    "### 2.1 More than flipping coins \n",
    "\n",
    "The example of coins being flipped can be helpful in explaining how quantum effects behave but it would be rather inpractical to use coins as a method of quantum information processing: quantum computation. There are a few obvious reasons for this: \n",
    "\n",
    "- Flipping coins is not very fast. Conventional computers (CPUs) have a clock speed in the GHz or billions of complete clock cycles per second. We would need an astronomical number of coins to try and replicate that. \n",
    "\n",
    "- Flipping coins can only really be used to generate random numbers. Beyond the conventional deterministic computing operations we can already do, the only real advantage from quantum theory would be the 'random' nature of the coin flips. \n",
    "\n",
    "- Sticking coins together is even slower than just flipping them. Not to mention the part where they get shuffled in a pseudorandom way. \n",
    "\n",
    "In other words, a practical quantum computer would, as one might expect, need to be a quantum system that can be controlled effectively and efficiently to carry out useful computations.  "
   ]
  },
  {
   "cell_type": "markdown",
   "metadata": {},
   "source": [
    "### 2.2 So what do computers do\n",
    "\n",
    "Before we add quantum spice to our computers, it would be wise to first describe what it is that our classical computers do. \n",
    "\n",
    "Computers work by executing logical operations (think addition/subtraction/multiplication/...) that take the machine from a starting point to a finishing point. The starting point that is fed into the computer is conventially known as the input and what the computer ends up with is usually referred to as the output. An *algorithm* is a set of instructions that allow the computer to take the input and generate an output. For example, an algorithm for doubling a number could take an input of 3, multiply it by 2 and return an output of 6. \n",
    "\n",
    "Going bak to the coins here, this is a bit like laying them out in a row and then proceeding to shuffle and flip the coins according to a script that allows something to be done. For example, you could add 2 numbers expressed in binary by following a simple series of rules that allows for addition. This is not too disimilar to using an abbacus as a calculator. Since the advent of the digital computer in the 1940's, these operations have been carried out by increasingly advanced machines to greater and greater success. \n",
    "\n",
    "This description of computation is woefully innacurate by modern standards, but it suffices to outline the basic fundamentals and is sufficient to motivate the use of quantum systems. "
   ]
  },
  {
   "cell_type": "markdown",
   "metadata": {},
   "source": [
    "### 2.3 Quantum Algorithms \n",
    "\n",
    " Conventional computers are really great at what they do. The field of high performance computing has had many decades to mature. According to Top500, an index tracking the most powerful supercomputers, the most powerful supercomputer, Fugaku is a $1bn powerhouse. It consumes 29,899 kilowatts to power 7,630,848 cores. For context, a mid-range laptop today might have 6 cores and consume a total of around 30 watts of power. \n",
    "\n",
    " For both machines, they execute algorithms that take an input and generate outputs in a similar manner. Whilst they are both excellent at solving a great many problems, there are two things they can't handle so well: superposition & entanglement. \n",
    "\n",
    " Starting with a simple coin tossthere are 2 possible outcomes. If we add a second coin there are 4 possible outcomes (HH, HT, TH, TT). As more and more coins are added to the tosser, the number of possible outcomes, $N$, grows as $N = 2^n$. If we had 300 coins, that would mean a single coin toss has more possible outcomes than we estimate the total number of atoms in the universe. That's roughly 2 followed by 90 0's different combinations of H & T. Now imagine tossing these coins 300 times...\n",
    "\n",
    " A quantum computer could handle this problem easily. Instead of needing a universe of atoms, 300 qubits *of sufficiently high quality* would be enough to run a quantum algorithm that could simulate these coins (including any fancy sticking of them together) to arbitrary precision. \n",
    "\n",
    " Quantum algorithms are similar to the input and output of classical algorithms but with the addition of superposition and entanglement in the middle. If an algorithm doesn't feature these two concepts, a classical solution will outperform any quantum computer any time. "
   ]
  },
  {
   "cell_type": "markdown",
   "metadata": {},
   "source": [
    "### 2.4 Quantum Advantage \n",
    "\n",
    "If our conventional computers perform so many tasks better, there must be some motivation for quantum computing being such an exciting area of research. Aside from the elegance of manipulating quantum states, quantum computing is expected to be more useful than a glorified coin tossing simulator. Despite the limitations in state of the art quantum computing machines, it is known of a few valuable applications where quantum algorithms *theoretically outperform* the best possible classical solution. In these specific applications it is said there is a proven *quantum advantage* as using the quantum computer derives some benefit to the user for that application. Whether or not it is worth using a quantum computer for a specific task is a very complicated question. It is not as simple as finding out if a quantum computer is faster but also whether the output of the quantum computer is better than what could have been done with conventional algorithms on a powerful classical computer. As of the time of writing, there has been no practical demonstartion of a problem with real world (outside experimental physics) problem where using a quantum computer was better than using the tried and tested classical solution. As quantum computers become increasingly powerful it is hoped that this threshold will be crossed in the next few years..."
   ]
  }
 ],
 "metadata": {
  "language_info": {
   "name": "python"
  },
  "orig_nbformat": 4
 },
 "nbformat": 4,
 "nbformat_minor": 2
}
