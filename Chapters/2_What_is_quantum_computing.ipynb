{
 "cells": [
  {
   "cell_type": "markdown",
   "metadata": {},
   "source": [
    "# 2. What is quantum computing\n",
    "\n",
    "In the previous chapter, the fundamental concepts of quantum mechanics were demystified and their relevance to quantum computing was explained. Building on that, this chapter will explain how quantum computers can unlock real-world value."
   ]
  },
  {
   "cell_type": "markdown",
   "metadata": {},
   "source": [
    "### 2.1 What computers do\n",
    "\n",
    "Before we add quantum spice to our computers, it would be wise to first describe what it is that our classical computers do. \n",
    "\n",
    "Computers work by executing logical operations (think addition/subtraction/multiplication/...) that take the machine from a starting point to a finishing point. The starting point that is fed into the computer is congenitally known as the input and what the computer ends up with is usually referred to as the output. An *algorithm* is a set of instructions that allow the computer to take the input and generate an output. For example, an algorithm for doubling a number could take an input of 3, multiply it by 2 and return an output of 6. \n",
    "\n",
    "Going back to the coins here, this is a bit like laying them out in a row and then proceeding to shuffle and flip the coins according to a script that allows something to be done. For example, you could add 2 numbers expressed in binary by following a simple series of rules that allows for addition. This is similar to using an abacus as a calculator. Since the advent of the digital computer in the 1940's, these operations have been carried out by increasingly advanced machines to do more complex computations a lot faster.\n",
    "\n",
    "### 2.2 More than flipping coins \n",
    "\n",
    "The example of coins being flipped can be helpful in explaining how quantum effects behave but it would not be practical to use coins for quantum computation. There are a few obvious reasons for this: \n",
    "\n",
    "- Flipping coins is not very fast. Modern computers have clock speeds in the GHz or billions of complete clock cycles per second. We would need an astronomical number of coins to try and replicate that. \n",
    "\n",
    "- Tossing coins can only really be used to generate random numbers. Beyond the conventional deterministic computing operations we can already do, the only real advantage from quantum theory would be the 'random' nature of the coin flips. \n",
    "\n",
    "- Sticking coins together is even slower than just flipping them. Not to mention the part where they get shuffled in a pseudorandom way. \n",
    "\n",
    "\n",
    "These coins represent the qubits in a quantum computer. We should be able to control these qubits faster and more precisely than with coins:\n",
    "\n",
    "- Perform operations on qubits quickly \n",
    "- Have a precise control over the probabilities \n",
    "- Be able to effectively control multiple qubits at once \n",
    "\n",
    "<!-- ### 2.3 Quantum Computers of today \n",
    "\n",
    "> TODO: Include diagrams \n",
    "\n",
    "There are many ways to build a quantum computer. The heart of which is the quantum processing unit (QPU). -->\n"
   ]
  },
  {
   "cell_type": "markdown",
   "metadata": {},
   "source": [
    "### 2.3 Quantum Algorithms \n",
    "\n",
    " Conventional computers are really great at what they do. The field of high-performance computing has had many decades to mature. According to Top500, an index tracking the most powerful supercomputers, the most powerful supercomputer, Fugaku is a $1bn powerhouse. It consumes 29,899 kilowatts to power 7,630,848 cores. For context, a mid-range laptop today might have 6 cores and consume a total of around 20 watts of power. \n",
    "\n",
    " Both the laptop and the supercomputer execute algorithms that take some inputs and generate outputs. Whilst they are both excellent at solving a great many problems, there are two things they can't handle so well: superposition & entanglement. \n",
    "\n",
    " Starting with a simple coin toss there are 2 possible outcomes. If we add a second coin there are 4 possible outcomes (HH, HT, TH, TT). As more and more coins are added, the number of possible outcomes doubles with each coin that is added. This number $N$, grows as $N = 2^n$. If we had 300 coins, that would mean a single toss has more possible outcomes than we estimate the total number of atoms in the universe. That's roughly 2 followed by 90 0's different combinations of H & T. Now imagine tossing these coins 300 times...\n",
    "\n",
    " A quantum computer could handle this problem easily. Instead of needing a universe of atoms, 300 qubits *of sufficiently high quality* would be enough to run a quantum algorithm that could simulate these coins (including sticking of them together) to arbitrary precision. \n",
    "\n",
    " Quantum algorithms are similar to the input and output of classical algorithms but with the addition of superposition and entanglement in the middle.  If an algorithm doesn't feature superposition & entanglement, it would always be better to use the classical computer. \n",
    "\n",
    " > Quantum computers are __*not*__ faster versions of regular computers\n",
    "\n",
    " > \n",
    "\n",
    " > Quantum computers are __*not*__ used to run conventional algorithms, or do things that are already very well done on a classical computer\n"
   ]
  },
  {
   "cell_type": "markdown",
   "metadata": {},
   "source": [
    "<!-- ### 2.4 Quantum Computers of today \n",
    "\n",
    "> TODO: Include diagrams \n",
    "\n",
    "There are many ways to build a quantum computer. The heart of which is the quantum processing unit (QPU).  -->"
   ]
  },
  {
   "cell_type": "markdown",
   "metadata": {},
   "source": [
    "### 2.4 Quantum Advantage \n",
    "\n",
    "If our conventional computers perform so many tasks better, there must be some motivation for quantum computing being such an exciting area of research. Aside from the elegance of manipulating quantum states, quantum computing is expected to be more useful than a glorified coin tossing simulator. Despite the limitations in state-of-the-art quantum computing machines, it is known of a few valuable applications where quantum algorithms *theoretically outperform* the best availible classical solution.\n",
    "\n",
    "> Quantum advantage occurs when a quantum computer gives significant benefit to the user compared to the best availible classical alternative. \n",
    "\n",
    "There are a few different ways a quantum computer could add value: \n",
    "\n",
    "- Solve a problem faster for better decision making\n",
    "- Provide more accurate solutions that are more useful \n",
    "- Consume less energy and thus cost less to run \n",
    "- Enable entirely new models & solutions to solve problems that previously couldn't be solved\n",
    "\n",
    "Quantum advantage is described in terms of how the solution scales with the size of the problem. As the problem becomes bigger and more complicated, the time taken for the computer, classical or quantum, to find a solution increases. If there is a speedup for a quantum algorithm, there is some \n",
    "\n",
    "![Quantum_advantage](Images/Q_advantage.png)[1]\n",
    "\n",
    "As of the time of writing, there has been no practical demonstration of a problem with real world (outside physics) problem where using a quantum computer was better than using the best classical solution. As quantum computers become increasingly powerful it is hoped that this threshold will be crossed in the next few years...\n",
    "\n",
    "\n",
    "### 2.5 Applications of Quantum Computing \n",
    "\n",
    "There are a great many practical difficulties in implementing QC. Even still, in 2021 [over $3 billion was invested into quantum computing](https://www.mckinsey.com/business-functions/mckinsey-digital/our-insights/quantum-computing-funding-remains-strong-but-talent-gap-raises-concern). Why is there so much hype around such an early-stage technology? \n",
    "\n",
    "There are many industries expecting significant value creation from quantum computing: \n",
    "\n",
    "- Pharmaceuticals: Develop better medicine by simulating drugs more quickly & accurately  \n",
    "- [Supply chain & logistics](https://www.youtube.com/watch?v=jA7iopqDm94): Quantum computing to optimise supply chains \n",
    "- Finance: Portfolio optimisation & fraud detection by simulation of stochastic variables\n",
    "- Environmental: Simulation of chemistry for batteries, solar cells & materials\n",
    "- Science: Simulation of quantum systems to better understand the universe\n",
    "\n",
    "Across each of these areas, there are multiple established companies and start-ups developing quantum solutions. It is expected that the combined value creation by 2030 will be in the $10's of billions. \n",
    "\n",
    "In addition to potential direct impacts, there are a lot of potential benefits to developing the hardware. Being able to measure qubits better can help develop quantum sensors with applications in healthcare & navigation. \n",
    "\n",
    "\n",
    "## Chapter 2 Summary \n",
    "\n",
    "- Quantum computers are more than just random objects that have superposition\n",
    "- Algorithms are sets of instructions that we give a computer to process information \n",
    "- Quantum algorithms are like conventional algorithms but they allow us to use superposition & entanglement \n",
    "- For some applications, quantum algorithms have shown to be much better than classical algorithms\n",
    "- When a quantum computer completes a task better than the best availible classical solution, there is quantum advantage\n"
   ]
  }
 ],
 "metadata": {
  "kernelspec": {
   "display_name": "Python 3.8.5 ('base')",
   "language": "python",
   "name": "python3"
  },
  "language_info": {
   "name": "python",
   "version": "3.8.5"
  },
  "orig_nbformat": 4,
  "vscode": {
   "interpreter": {
    "hash": "ad2bdc8ecc057115af97d19610ffacc2b4e99fae6737bb82f5d7fb13d2f2c186"
   }
  }
 },
 "nbformat": 4,
 "nbformat_minor": 2
}
