{
 "cells": [
  {
   "cell_type": "markdown",
   "metadata": {},
   "source": [
    "## 2. What is quantum computing\n",
    "\n",
    "In the previous chapter, some of the fundamental concepts of quantum mechanics were introduced and their relevance to quantum computing was briefly explained. Building on that, this chapter will provide a bit more detail on how quantum computers employ such esoteric, exotic pheomena for practical applications."
   ]
  },
  {
   "cell_type": "markdown",
   "metadata": {},
   "source": [
    "### 2.1 More than flipping coins \n",
    "\n",
    "The example of coins being flipped can be helpful in explaining how quantum effects behave but it would be rather inpractical to use coins as a method of quantum information processing: quantum computation. There are a few obvious reasons for this: \n",
    "\n",
    "- Flipping coins is not very fast. Conventional computers (CPUs) have a clock speed in the GHz or billions of complete clock cycles per second. We would need an astronomical number of coins to try and replicate that. \n",
    "\n",
    "- Flipping coins can only really be used to generate random numbers. Beyond the conventional deterministic computing operations we can already do, the only real advantage from quantum theory would be the 'random' nature of the coin flips. \n",
    "\n",
    "- Sticking coins together is even slower than just flipping them. Not to mention the part where they get shuffled in a pseudorandom way. \n",
    "\n",
    "In other words, a practical quantum computer would, as one might expect, need to be a quantum system that can be controlled effectively and efficiently to carry out useful computations.  "
   ]
  },
  {
   "cell_type": "markdown",
   "metadata": {},
   "source": [
    "### 2.2 So what do computers do\n",
    "\n",
    "Before we add quantum spice to our computers, it would be wise to first describe what it is that our classical computers do. \n",
    "\n",
    "Computers work by executing logical operations (think addition/subtraction/multiplication/...) that take the machine from a starting point to a finishing point. The starting point that is fed into the computer is conventially known as the input and what the computer ends up with is usually referred to as the output. An *algorithm* is a set of instructions that allow the computer to take the input and generate an output. \n",
    "\n",
    "Going bak to the coins here, this is a bit like laying them out in a row and then proceeding to shuffle and flip the coins according to a script that allows something to be done. For example, you could add 2 numbers expressed in binary by following a simple series of rules that allows for addition. This is not too disimilar to using an abbacus as a calculator. Since the advent of the digital computer in the 1940's, these operations have been carried out by increasingly advanced machines to greater and greater success. \n",
    "\n",
    "This description of computation is woefully innacurate by modern standards, but it suffices to outline the basic fundamentals and is sufficient to motivate the use of quantum systems. "
   ]
  },
  {
   "cell_type": "markdown",
   "metadata": {},
   "source": [
    "### 2.3 Quantum Algorithms \n",
    "\n"
   ]
  },
  {
   "cell_type": "markdown",
   "metadata": {},
   "source": [
    " Conventional computers are really great at what they do. "
   ]
  },
  {
   "cell_type": "markdown",
   "metadata": {},
   "source": [
    "### 2.4 Quantum Advantage \n"
   ]
  }
 ],
 "metadata": {
  "language_info": {
   "name": "python"
  },
  "orig_nbformat": 4
 },
 "nbformat": 4,
 "nbformat_minor": 2
}
