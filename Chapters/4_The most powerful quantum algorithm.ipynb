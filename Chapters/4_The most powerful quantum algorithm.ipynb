{
 "cells": [
  {
   "cell_type": "markdown",
   "metadata": {},
   "source": [
    "## The most powerful numerical algorithm\n",
    "\n",
    "*Mathematical analysis is as extensive as nature itself; it defines all perceptible relations, measures times, spaces, forces, temperatures:;; this difficult science is formed slowly, but it preserves every principle which it has once acquired; it grows and strengthens itself incessantly in the midst of the many variations and errors of the human mind. It's chief attribute is clearness; it has no marks to express confused notations. It brings together phenomena the most diverse, and discovers the hidden analogies which unite them.* Joseph Fourier, The Analytical Theory of Heat (1878) \n",
    "\n",
    "This chapter is atypical of the rest of this textbook. Here a rather lengthy historical introduction is given in an attempt to convey the power \n",
    "\n"
   ]
  }
 ],
 "metadata": {
  "language_info": {
   "name": "python"
  },
  "orig_nbformat": 4
 },
 "nbformat": 4,
 "nbformat_minor": 2
}
