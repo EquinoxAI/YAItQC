{
 "cells": [
  {
   "cell_type": "markdown",
   "metadata": {},
   "source": [
    "# 7 Quantum Circuits\n",
    "\n",
    "\n",
    "## 7.1 What do you need for a quantum computation? \n",
    "\n",
    "The predominant model of quantum computing is the circuit model. \n",
    "\n",
    "A quantum ciruit is a diagram showing the operations that act on qubits to carry out a computation. All quantum circuits have 3 parts:\n",
    "\n",
    "1. Initialisaton: Start your qubits in an initial quantum state\n",
    "2. Computation: Perform a series of single and 2 qubit gates \n",
    "3. Measurement: Measure the qubits \n",
    "\n",
    "Many quantum algorithms will also interface with a classical computer. This is very application-spcific so it will be covered later. \n",
    "\n",
    "\n",
    "### 7.1.1 Hello quantum world\n",
    "\n",
    "In this course the open-source quantum development kit, Qiskit (pronounced kiss-ket) will be used. It is developed by IBM and has the greatest support including: \n",
    "\n",
    "- An entire textbook on how to use it \n",
    "- Many YouTube tutorials (by IBM and 3rd parties)\n",
    "- Many hackathons orgainsed by IBM and others use Qikist\n",
    "- Excellent documentation \n",
    "- Good compatibility with other gate-based quantum computers\n",
    "\n",
    "There are two ways to use Qiskit. It can be installed on your local machine or accessed over the cloud (for free) thanks to IBM\n",
    "\n",
    "\n",
    "\n"
   ]
  },
  {
   "cell_type": "code",
   "execution_count": null,
   "metadata": {},
   "outputs": [],
   "source": []
  },
  {
   "cell_type": "markdown",
   "metadata": {},
   "source": [
    "\n",
    "\n",
    "\n",
    "\n",
    "> ### Exercise 7.1 1 + 1 = 2 (most of the time )\n",
    "> \n",
    "> A simple quantum circuit can be used to add 2 bits. \n",
    "\n"
   ]
  },
  {
   "cell_type": "code",
   "execution_count": null,
   "metadata": {},
   "outputs": [],
   "source": []
  },
  {
   "cell_type": "markdown",
   "metadata": {},
   "source": [
    "\n",
    "\n",
    "> ### Exercise 7.2 The Quantum Fourier Transform \n",
    "> \n",
    "> The quantum Fourier transform (QFT) is the most powerful subroutine for any quantum algorithm. It is what grants Shors algorithm its exponential speedup and is featured in many quantum algorithms. This exercise will not fully explain what it is, or how it works, but will instead simply generate the circuit for the QFT. \n",
    "\n",
    "\n",
    "\n",
    "\n",
    " "
   ]
  },
  {
   "cell_type": "code",
   "execution_count": null,
   "metadata": {},
   "outputs": [],
   "source": []
  }
 ],
 "metadata": {
  "kernelspec": {
   "display_name": "Python 3.8.5 ('base')",
   "language": "python",
   "name": "python3"
  },
  "language_info": {
   "name": "python",
   "version": "3.8.5"
  },
  "orig_nbformat": 4,
  "vscode": {
   "interpreter": {
    "hash": "ad2bdc8ecc057115af97d19610ffacc2b4e99fae6737bb82f5d7fb13d2f2c186"
   }
  }
 },
 "nbformat": 4,
 "nbformat_minor": 2
}
