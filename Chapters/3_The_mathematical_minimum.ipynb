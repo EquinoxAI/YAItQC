{
 "cells": [
  {
   "cell_type": "markdown",
   "metadata": {},
   "source": [
    "# 3 The mathematical minium \n",
    "\n",
    "\n",
    "## 3.1 Linear Algebra \n",
    "\n",
    "Linear algebra is what neural networks, as well as much of computer science, is based on. It is also what much of quantum theory, including all of quantum computing, is based upon. There are two key elements to linear algebra: vectors and matrices. \n",
    "\n",
    "### 3.1.1 Vectors\n",
    "\n",
    "### 3.1.2 Matrices\n",
    "\n",
    "\n",
    "### 3.1.3 What's a tensor?\n",
    "\n",
    "Matrices and vectors are both elements of what is more generally known as a tensor. In the area of physics it has become something of a running joke the fact that many physicists use tensors regularly but do not completley understand what  they are. As this is not indended to be a maths textbook, tensors will not be properly defined here. \n",
    "\n",
    "The reason they are still worth mentioning is that the concept of what a tensor is, and the tensor product, is very much vital for a solid foundation in quantum computing. As the course progresses these two concepts may need to be introduced more formally. "
   ]
  }
 ],
 "metadata": {
  "language_info": {
   "name": "python"
  },
  "orig_nbformat": 4
 },
 "nbformat": 4,
 "nbformat_minor": 2
}
