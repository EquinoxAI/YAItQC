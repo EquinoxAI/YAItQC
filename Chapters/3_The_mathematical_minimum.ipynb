{
 "cells": [
  {
   "cell_type": "markdown",
   "metadata": {},
   "source": [
    "# 3 The mathematical minium \n",
    "\n",
    "\n",
    "## 3.1 Linear Algebra \n",
    "\n",
    "Linear algebra is what neural networks, as well as much of computer science, is based on. It is also what much of quantum theory, including all of quantum computing, is based upon. There are two key elements to linear algebra: vectors and matrices. \n",
    "\n",
    "### 3.1.1 Vectors\n",
    "\n",
    "### 3.1.2 Matrices\n",
    "\n",
    "\n",
    "### 3.1.3 What's a tensor?\n",
    "\n",
    "Matrices and vectors are both elements of what is more generally known as a tensor. In the area of physics it has become something of a running joke the fact that many physicists use tensors regularly but do not completley understand what  they are. As this is not indended to be a maths textbook, tensors will not be properly defined here. \n",
    "\n",
    "The reason they are still worth mentioning is that the concept of what a tensor is, and the tensor product, is very much vital for a solid foundation in quantum computing. As the course progresses these two concepts may need to be introduced more formally. "
   ]
  },
  {
   "cell_type": "markdown",
   "metadata": {},
   "source": [
    "## 3.2 Complicating the numbers \n",
    "\n",
    "So far everything in this textbook has been described using *real* numbers- that is the set numbers you can produce on most calculators. It seems that nature in it's infinite beauty calls for us to expand our set of numbers to better understand the fabric of reality. \n",
    "\n",
    "### 3.2.1 The square root of -1 \n",
    "\n",
    "There are two square roots of $4$: $+2$ & $-2$. For numbers that aren't integers there are algorithms we can run on our calculators to work out the roots to arbitrary precision. In physics there are many situtations in which the only valid solution to a particular equation calls for the square root of a negative number. To make this work, it is necessary to first define the square root of $-1$ as $i = \\sqrt{-1}$. \n",
    "\n",
    "Using some basic algebra we can factorise any surd (square root number) into a product of two surds $ \\sqrt{ab} = \\sqrt{a} \\times \\sqrt{b}$. This holds true for negative numbers allowing us to take the square root of any negative number by breaking it down into the square root of $-1$ and the postive magnitude of that number. This can be written as:\n",
    "\n",
    "$$ \\sqrt{-a} = \\sqrt{-1} \\times \\sqrt{a} $$\n",
    "\n",
    "$$ \\sqrt{-a} = \\pm i \\sqrt{a} $$\n",
    "For example the square root of $-4$ can be written as $+2i$, $-2i$\n",
    "These numbers that can be written as $ai$ are known as imaginary numbers. \n",
    "### 3.2.2 Complex numbers \n",
    "\n",
    "Imaginary numbers work similarly to the real numbers everyone uses on a  daily basis. One can divide, multiply add & subtract them just as you can for real numbers. What this also means is that any of $ \\div ,\\times, +, - $ operations can be applied to a combination of both real and imaginary numbers. For instance, the positive root of $-4$, $2i$ can be added to $3$ as $3 + 2i $. Any such number that can be written as a sum of a real and imaginary number is called a *complex number*. More generally we can define this mathematically as:\n",
    "\n",
    "$$ z = a + ib $$\n",
    "\n",
    "Where $a$ and $b$ are purely real numbers. The real part of $z$ is known as $ Re(z) = a$ and similarly the imaginary component of is $ Im(z) = b$. \n",
    "\n",
    "### 3.2.3 The Argand Plane\n",
    "\n",
    "\n",
    "### 3.2.4 $n^{th}$ roots of unity \n",
    "\n",
    "\n",
    "\n",
    "### Euler's formula\n",
    "\n",
    "Without going through all the steps of explaining where it came from, *Euler's formula* can be stated as:\n",
    "\n",
    "$$ e^{i \\theta} = cos(\\theta) + i sin(\\theta) $$\n",
    "\n",
    "The significance of this is that one can represent any complex number in this fasion simply by multiplying the left hand side by some magnitude. In the context of quantum infomration this object $ e^{i\\theta}$ is commonly referred to as a phase and is of exceptional importance.\n",
    "\n",
    "### 3.3 The most beautiful equation\n",
    "\n",
    "*Like a Shakespearean sonnet that captures the very essence of love, or a painting that brings out the beauty of the human form that is far more than just skin deep, Euler's Equation reaches down into the very depths of existence.* - Keith Devlin. \n",
    "\n",
    "The beauty of Euler's identity lies in the way it uses so many important fundamental constants just once. Using Euler's formula and setting $\\theta = \\pi$ one obtains *Euler's identity*:\n",
    "\n",
    "$$ e^{i\\pi} + 1 = 0 $$"
   ]
  }
 ],
 "metadata": {
  "language_info": {
   "name": "python"
  },
  "orig_nbformat": 4
 },
 "nbformat": 4,
 "nbformat_minor": 2
}
