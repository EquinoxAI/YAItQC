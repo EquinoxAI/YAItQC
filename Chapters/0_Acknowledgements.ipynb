{
 "cells": [
  {
   "cell_type": "markdown",
   "metadata": {},
   "source": [
    "# Acknowledgements\n",
    "\n",
    "This educational text simply builds upon the inspiring work of a large number of visonaries. In addition, there are many great minds whoose generosity in sharing their insights facilitated much of this work. It has been a great honour and privilege to have been supported in this endeavour. As an expression of gratitude, what follows is, in no particular order, a list of thanks:\n",
    "\n"
   ]
  }
 ],
 "metadata": {
  "language_info": {
   "name": "python"
  },
  "orig_nbformat": 4
 },
 "nbformat": 4,
 "nbformat_minor": 2
}
