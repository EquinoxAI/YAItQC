{
 "cells": [
  {
   "cell_type": "markdown",
   "metadata": {},
   "source": [
    "# Solutions to exercises in the chapters\n"
   ]
  },
  {
   "cell_type": "code",
   "execution_count": 1,
   "metadata": {},
   "outputs": [],
   "source": [
    "from qiskit import QuantumCircuit, Aer, assemble\n",
    "import numpy as np\n",
    "from qiskit.visualization import plot_histogram, plot_bloch_multivector\n",
    "from qiskit.visualization import array_to_latex\n",
    "from qiskit.quantum_info import Statevector\n",
    "import qiskit.tools.jupyter"
   ]
  },
  {
   "cell_type": "markdown",
   "metadata": {},
   "source": [
    "\n",
    "\n",
    "## Chapter 3 Part 1 Complex Numbers \n",
    "\n",
    "### Complex numbers\n",
    "\n",
    "### 3.1\n",
    "### 3.2 \n",
    "\n",
    "## Chapter 3 Part 2 Linear algebra\n",
    "\n",
    "### 3.3  \n",
    "### 3.4 \n",
    "### 3.5 \n",
    "\n",
    "\n",
    "## Chapter 4 Dirac Notation\n",
    "### 4.1 \n",
    "\n",
    "\n",
    "If the coin is 3 times more likely to be heads than tails, $P(H) = 3/4$ and $P(T) = 1/4$. This gives us probability amplitudes of $\\sqrt{3}/2$ for heads and $1/2$ for tails. \n",
    "\n",
    "$$\\ket{\\psi} = \\sqrt{3}/2\\ket{H} + 1/2\\ket{T}$$\n",
    "\n",
    "We can write this as a column vector as\n",
    "\n",
    "$$\n",
    "\\ket{\\psi} = \\frac{1}{2}\\begin{bmatrix}\n",
    "\\sqrt{3} \\\\ 1\n",
    "\\end{bmatrix}\n",
    "\n",
    "$$\n",
    "\n",
    "### 4.2 Expectation values\n",
    "\n",
    "\n",
    "We could write the expectation, E would be\n",
    "\n",
    "$$\n",
    "E = \\sum_{i = 1}^{6} i \\times P(i)\n",
    "$$\n",
    "\n",
    "$$\n",
    "E = 1 \\times \\frac{1}{6} + 2 \\times \\frac{1}{6} + 3 \\times \\frac{1}{6} +  4 \\times \\frac{1}{6} + 5 \\times \\frac{1}{6} + 6 \\times \\frac{1}{6}  \n",
    "$$\n",
    "\n",
    "$$  = \\frac{21}{6} = 3.5 $$ \n",
    "\n",
    "So we would expect, on average, to get a number a little more than 3."
   ]
  },
  {
   "cell_type": "markdown",
   "metadata": {},
   "source": [
    "\n",
    "The exercise *4.2* can be done instead by introducing an operator. We can define the number operator $N$ which multiplies the state by the number it is in. So for instance \n",
    "\n",
    "$$ N \\ket{4} = 4\\ket{4} $$\n",
    "\n",
    "This operator effectively scales the state by the number. As a matrix this looks like \n",
    "\n",
    "$$ N = \\begin{bmatrix} 1 & 0 & 0 & 0 & 0 & 0 \\\\0 & 2 & 0 & 0 & 0 & 0  \\\\ 0 & 0 & 3 & 0 & 0 & 0 \\\\ 0 & 0  & 0 &4 & 0 & 0 \\\\ 0 & 0 & 0 & 0 & 5 & 0 \\\\ 0 & 0 & 0 & 0 & 0 & 6 \\end{bmatrix} $$\n",
    "\n",
    "\n",
    "\n",
    "Computing each probability for every amplitude is not too much work when there are only 6 possible outcomes. But imagine instead if there were a million possible outcomes. Then we would need to compute a million different probabilities. A million outcomes might sound like lot, nobody has a million sided dice lying around,  but that can be achieved with just 20 qubits. Rather than compute the expectation value by computing each probability one by one, we can use vectorisation to parallelise this computation using operators. This use of matrix multiplication is how Nvidia can leverage their massively parallel graphics processing units (GPUs) [to simulate quantum computers efficiently](https://developer.nvidia.com/cuquantum-sdk). "
   ]
  },
  {
   "cell_type": "markdown",
   "metadata": {},
   "source": [
    "## Chapter 5 Single Qubits \n",
    "\n",
    "### 5.1 Where on the sphere\n",
    "\n",
    "### 5.2 Back to the start\n",
    "\n",
    "The same as before:\n",
    "\n",
    "$$ H\\ket{-} = H \\frac{1}{\\sqrt{2}} ( \\ket{0} - \\ket{1})$$\n",
    "\n",
    "$$= \\frac{1}{\\sqrt{2}} (H\\ket{0} - H\\ket{1})$$\n",
    "\n",
    "$$ = \\frac{1}{\\sqrt{2}}\\left( \\frac{1}{\\sqrt{2}}(\\ket{0} - \\ket{1})+\\frac{1}{\\sqrt{2}}(\\ket{0} - \\ket{1}))  \\right)$$\n",
    "\n",
    "### 5.3 The coin doesn't work!\n",
    "\n",
    "When we throw the coin, we get a 50/50 chance of heads or tails. Whatever the outcome of that throw, even if we don't reveal the coin, throwing it again will still have the 50/50 chance. \n",
    "\n",
    "Throwing a coin any number of times is the same as throwing it once. \n",
    "\n",
    "### 5.4 \n",
    "\n",
    "### 5.5 \n",
    "\n",
    "\n",
    "## Chapter 6 Multiple Qubits\n",
    "\n",
    "### 6.1 Convert from binary\n",
    "\n",
    "### 6.2 Convert to binary "
   ]
  },
  {
   "cell_type": "markdown",
   "metadata": {},
   "source": [
    "## Chapter 7 Quantum Circuits \n",
    "\n",
    "### 7.1  1 + 1 = 2 (most of the time )\n",
    "\n",
    "### 7.2 The Quantum Fourier Transform \n",
    "\n",
    "There are multiple ways this can be done. Below is an example:"
   ]
  },
  {
   "cell_type": "code",
   "execution_count": 9,
   "metadata": {},
   "outputs": [
    {
     "data": {
      "image/svg+xml": "<?xml version=\"1.0\" encoding=\"utf-8\" standalone=\"no\"?>\r\n<!DOCTYPE svg PUBLIC \"-//W3C//DTD SVG 1.1//EN\"\r\n  \"http://www.w3.org/Graphics/SVG/1.1/DTD/svg11.dtd\">\r\n<!-- Created with matplotlib (https://matplotlib.org/) -->\r\n<svg height=\"123.482399pt\" version=\"1.1\" viewBox=\"0 0 306.926268 123.482399\" width=\"306.926268pt\" xmlns=\"http://www.w3.org/2000/svg\" xmlns:xlink=\"http://www.w3.org/1999/xlink\">\r\n <metadata>\r\n  <rdf:RDF xmlns:cc=\"http://creativecommons.org/ns#\" xmlns:dc=\"http://purl.org/dc/elements/1.1/\" xmlns:rdf=\"http://www.w3.org/1999/02/22-rdf-syntax-ns#\">\r\n   <cc:Work>\r\n    <dc:type rdf:resource=\"http://purl.org/dc/dcmitype/StillImage\"/>\r\n    <dc:date>2022-09-25T10:16:16.272222</dc:date>\r\n    <dc:format>image/svg+xml</dc:format>\r\n    <dc:creator>\r\n     <cc:Agent>\r\n      <dc:title>Matplotlib v3.3.2, https://matplotlib.org/</dc:title>\r\n     </cc:Agent>\r\n    </dc:creator>\r\n   </cc:Work>\r\n  </rdf:RDF>\r\n </metadata>\r\n <defs>\r\n  <style type=\"text/css\">*{stroke-linecap:butt;stroke-linejoin:round;}</style>\r\n </defs>\r\n <g id=\"figure_1\">\r\n  <g id=\"patch_1\">\r\n   <path d=\"M 0 123.482399 \r\nL 306.926268 123.482399 \r\nL 306.926268 0 \r\nL 0 0 \r\nz\r\n\" style=\"fill:#ffffff;\"/>\r\n  </g>\r\n  <g id=\"axes_1\">\r\n   <g id=\"line2d_1\">\r\n    <path clip-path=\"url(#pacf91251e0)\" d=\"M 63.381071 43.5608 \r\nL 295.181168 43.5608 \r\n\" style=\"fill:none;stroke:#000000;stroke-linecap:square;stroke-width:2;\"/>\r\n   </g>\r\n   <g id=\"line2d_2\">\r\n    <path clip-path=\"url(#pacf91251e0)\" d=\"M 63.381071 89.011799 \r\nL 295.181168 89.011799 \r\n\" style=\"fill:none;stroke:#000000;stroke-linecap:square;stroke-width:2;\"/>\r\n   </g>\r\n   <g id=\"patch_2\">\r\n    <path clip-path=\"url(#pacf91251e0)\" d=\"M 260.865664 66.286299 \r\nL 278.591553 66.286299 \r\nL 278.591553 20.8353 \r\nL 260.865664 20.8353 \r\nz\r\n\" style=\"fill:#bdbdbd;opacity:0.6;\"/>\r\n   </g>\r\n   <g id=\"patch_3\">\r\n    <path clip-path=\"url(#pacf91251e0)\" d=\"M 260.865664 111.737299 \r\nL 278.591553 111.737299 \r\nL 278.591553 66.286299 \r\nL 260.865664 66.286299 \r\nz\r\n\" style=\"fill:#bdbdbd;opacity:0.6;\"/>\r\n   </g>\r\n   <g id=\"line2d_3\">\r\n    <path clip-path=\"url(#pacf91251e0)\" d=\"M 156.10111 89.011799 \r\nL 156.10111 43.5608 \r\n\" style=\"fill:none;stroke:#bb8bff;stroke-linecap:square;stroke-width:2;\"/>\r\n   </g>\r\n   <g id=\"line2d_4\">\r\n    <path clip-path=\"url(#pacf91251e0)\" d=\"M 156.10111 89.011799 \r\nL 156.10111 43.5608 \r\n\" style=\"fill:none;stroke:#bb8bff;stroke-linecap:square;stroke-width:2;\"/>\r\n   </g>\r\n   <g id=\"patch_4\">\r\n    <path clip-path=\"url(#pacf91251e0)\" d=\"M 73.153036 58.332374 \r\nL 102.696186 58.332374 \r\nL 102.696186 28.789225 \r\nL 73.153036 28.789225 \r\nz\r\n\" style=\"fill:#6fa4ff;stroke:#6fa4ff;stroke-linejoin:miter;stroke-width:1.5;\"/>\r\n   </g>\r\n   <g id=\"patch_5\">\r\n    <path clip-path=\"url(#pacf91251e0)\" d=\"M 156.10111 93.443271 \r\nC 157.27635 93.443271 158.403614 92.976343 159.234634 92.145323 \r\nC 160.065655 91.314303 160.532583 90.187039 160.532583 89.011799 \r\nC 160.532583 87.836559 160.065655 86.709295 159.234634 85.878275 \r\nC 158.403614 85.047254 157.27635 84.580326 156.10111 84.580326 \r\nC 154.92587 84.580326 153.798606 85.047254 152.967586 85.878275 \r\nC 152.136566 86.709295 151.669638 87.836559 151.669638 89.011799 \r\nC 151.669638 90.187039 152.136566 91.314303 152.967586 92.145323 \r\nC 153.798606 92.976343 154.92587 93.443271 156.10111 93.443271 \r\nz\r\n\" style=\"fill:#bb8bff;stroke:#bb8bff;stroke-linejoin:miter;stroke-width:1.5;\"/>\r\n   </g>\r\n   <g id=\"patch_6\">\r\n    <path clip-path=\"url(#pacf91251e0)\" d=\"M 156.10111 47.992272 \r\nC 157.27635 47.992272 158.403614 47.525344 159.234634 46.694324 \r\nC 160.065655 45.863303 160.532583 44.73604 160.532583 43.5608 \r\nC 160.532583 42.385559 160.065655 41.258296 159.234634 40.427275 \r\nC 158.403614 39.596255 157.27635 39.129327 156.10111 39.129327 \r\nC 154.92587 39.129327 153.798606 39.596255 152.967586 40.427275 \r\nC 152.136566 41.258296 151.669638 42.385559 151.669638 43.5608 \r\nC 151.669638 44.73604 152.136566 45.863303 152.967586 46.694324 \r\nC 153.798606 47.525344 154.92587 47.992272 156.10111 47.992272 \r\nz\r\n\" style=\"fill:#bb8bff;stroke:#bb8bff;stroke-linejoin:miter;stroke-width:1.5;\"/>\r\n   </g>\r\n   <g id=\"patch_7\">\r\n    <path clip-path=\"url(#pacf91251e0)\" d=\"M 209.506034 103.783374 \r\nL 239.049184 103.783374 \r\nL 239.049184 74.240224 \r\nL 209.506034 74.240224 \r\nz\r\n\" style=\"fill:#6fa4ff;stroke:#6fa4ff;stroke-linejoin:miter;stroke-width:1.5;\"/>\r\n   </g>\r\n   <g id=\"line2d_5\">\r\n    <path clip-path=\"url(#pacf91251e0)\" d=\"M 269.728609 20.8353 \r\nL 269.728609 66.286299 \r\n\" style=\"fill:none;stroke:#000000;stroke-dasharray:3.7,1.6;stroke-dashoffset:0;\"/>\r\n   </g>\r\n   <g id=\"line2d_6\">\r\n    <path clip-path=\"url(#pacf91251e0)\" d=\"M 269.728609 66.286299 \r\nL 269.728609 111.737299 \r\n\" style=\"fill:none;stroke:#000000;stroke-dasharray:3.7,1.6;stroke-dashoffset:0;\"/>\r\n   </g>\r\n   <g id=\"text_1\">\r\n    <g clip-path=\"url(#pacf91251e0)\">\r\n     <!-- ${q}_{0}$ -->\r\n     <g transform=\"translate(36.253371 48.011776)scale(0.1625 -0.1625)\">\r\n      <defs>\r\n       <path d=\"M 41.703125 8.203125 \r\nQ 38.09375 3.46875 33.171875 1.015625 \r\nQ 28.265625 -1.421875 22.3125 -1.421875 \r\nQ 14.015625 -1.421875 9.296875 4.171875 \r\nQ 4.59375 9.765625 4.59375 19.578125 \r\nQ 4.59375 27.484375 7.5 34.859375 \r\nQ 10.40625 42.234375 15.828125 48.09375 \r\nQ 19.34375 51.90625 23.90625 53.953125 \r\nQ 28.46875 56 33.5 56 \r\nQ 39.546875 56 43.453125 53.609375 \r\nQ 47.359375 51.21875 49.125 46.390625 \r\nL 50.6875 54.59375 \r\nL 59.71875 54.59375 \r\nL 45.125 -20.609375 \r\nL 36.078125 -20.609375 \r\nz\r\nM 13.921875 20.90625 \r\nQ 13.921875 13.671875 16.9375 9.890625 \r\nQ 19.96875 6.109375 25.6875 6.109375 \r\nQ 34.1875 6.109375 40.1875 14.234375 \r\nQ 46.1875 22.359375 46.1875 33.984375 \r\nQ 46.1875 41.015625 43.078125 44.75 \r\nQ 39.984375 48.484375 34.1875 48.484375 \r\nQ 29.9375 48.484375 26.3125 46.5 \r\nQ 22.703125 44.53125 20.015625 40.71875 \r\nQ 17.1875 36.71875 15.546875 31.34375 \r\nQ 13.921875 25.984375 13.921875 20.90625 \r\nz\r\n\" id=\"DejaVuSans-Oblique-113\"/>\r\n       <path d=\"M 31.78125 66.40625 \r\nQ 24.171875 66.40625 20.328125 58.90625 \r\nQ 16.5 51.421875 16.5 36.375 \r\nQ 16.5 21.390625 20.328125 13.890625 \r\nQ 24.171875 6.390625 31.78125 6.390625 \r\nQ 39.453125 6.390625 43.28125 13.890625 \r\nQ 47.125 21.390625 47.125 36.375 \r\nQ 47.125 51.421875 43.28125 58.90625 \r\nQ 39.453125 66.40625 31.78125 66.40625 \r\nz\r\nM 31.78125 74.21875 \r\nQ 44.046875 74.21875 50.515625 64.515625 \r\nQ 56.984375 54.828125 56.984375 36.375 \r\nQ 56.984375 17.96875 50.515625 8.265625 \r\nQ 44.046875 -1.421875 31.78125 -1.421875 \r\nQ 19.53125 -1.421875 13.0625 8.265625 \r\nQ 6.59375 17.96875 6.59375 36.375 \r\nQ 6.59375 54.828125 13.0625 64.515625 \r\nQ 19.53125 74.21875 31.78125 74.21875 \r\nz\r\n\" id=\"DejaVuSans-48\"/>\r\n      </defs>\r\n      <use xlink:href=\"#DejaVuSans-Oblique-113\"/>\r\n      <use transform=\"translate(63.476562 -16.40625)scale(0.7)\" xlink:href=\"#DejaVuSans-48\"/>\r\n     </g>\r\n    </g>\r\n   </g>\r\n   <g id=\"text_2\">\r\n    <g clip-path=\"url(#pacf91251e0)\">\r\n     <!-- ${q}_{1}$ -->\r\n     <g transform=\"translate(36.253371 93.462775)scale(0.1625 -0.1625)\">\r\n      <defs>\r\n       <path d=\"M 12.40625 8.296875 \r\nL 28.515625 8.296875 \r\nL 28.515625 63.921875 \r\nL 10.984375 60.40625 \r\nL 10.984375 69.390625 \r\nL 28.421875 72.90625 \r\nL 38.28125 72.90625 \r\nL 38.28125 8.296875 \r\nL 54.390625 8.296875 \r\nL 54.390625 0 \r\nL 12.40625 0 \r\nz\r\n\" id=\"DejaVuSans-49\"/>\r\n      </defs>\r\n      <use xlink:href=\"#DejaVuSans-Oblique-113\"/>\r\n      <use transform=\"translate(63.476562 -16.40625)scale(0.7)\" xlink:href=\"#DejaVuSans-49\"/>\r\n     </g>\r\n    </g>\r\n   </g>\r\n   <g id=\"text_3\">\r\n    <g clip-path=\"url(#pacf91251e0)\">\r\n     <!-- H -->\r\n     <g transform=\"translate(83.036408 47.147987)scale(0.13 -0.13)\">\r\n      <defs>\r\n       <path d=\"M 9.8125 72.90625 \r\nL 19.671875 72.90625 \r\nL 19.671875 43.015625 \r\nL 55.515625 43.015625 \r\nL 55.515625 72.90625 \r\nL 65.375 72.90625 \r\nL 65.375 0 \r\nL 55.515625 0 \r\nL 55.515625 34.71875 \r\nL 19.671875 34.71875 \r\nL 19.671875 0 \r\nL 9.8125 0 \r\nz\r\n\" id=\"DejaVuSans-72\"/>\r\n      </defs>\r\n      <use xlink:href=\"#DejaVuSans-72\"/>\r\n     </g>\r\n    </g>\r\n   </g>\r\n   <g id=\"text_4\">\r\n    <g clip-path=\"url(#pacf91251e0)\">\r\n     <!-- P ($\\pi$/2) -->\r\n     <g transform=\"translate(161.73602 65.547399)scale(0.08 -0.08)\">\r\n      <defs>\r\n       <path d=\"M 19.671875 64.796875 \r\nL 19.671875 37.40625 \r\nL 32.078125 37.40625 \r\nQ 38.96875 37.40625 42.71875 40.96875 \r\nQ 46.484375 44.53125 46.484375 51.125 \r\nQ 46.484375 57.671875 42.71875 61.234375 \r\nQ 38.96875 64.796875 32.078125 64.796875 \r\nz\r\nM 9.8125 72.90625 \r\nL 32.078125 72.90625 \r\nQ 44.34375 72.90625 50.609375 67.359375 \r\nQ 56.890625 61.8125 56.890625 51.125 \r\nQ 56.890625 40.328125 50.609375 34.8125 \r\nQ 44.34375 29.296875 32.078125 29.296875 \r\nL 19.671875 29.296875 \r\nL 19.671875 0 \r\nL 9.8125 0 \r\nz\r\n\" id=\"DejaVuSans-80\"/>\r\n       <path id=\"DejaVuSans-32\"/>\r\n       <path d=\"M 31 75.875 \r\nQ 24.46875 64.65625 21.28125 53.65625 \r\nQ 18.109375 42.671875 18.109375 31.390625 \r\nQ 18.109375 20.125 21.3125 9.0625 \r\nQ 24.515625 -2 31 -13.1875 \r\nL 23.1875 -13.1875 \r\nQ 15.875 -1.703125 12.234375 9.375 \r\nQ 8.59375 20.453125 8.59375 31.390625 \r\nQ 8.59375 42.28125 12.203125 53.3125 \r\nQ 15.828125 64.359375 23.1875 75.875 \r\nz\r\n\" id=\"DejaVuSans-40\"/>\r\n       <path d=\"M 9.125 54.6875 \r\nL 61.53125 54.6875 \r\nL 59.765625 45.703125 \r\nL 52.875 45.703125 \r\nL 46.34375 12.109375 \r\nQ 45.65625 8.59375 46.578125 7.03125 \r\nQ 47.46875 5.515625 50.140625 5.515625 \r\nQ 50.875 5.515625 51.953125 5.671875 \r\nQ 53.078125 5.765625 53.421875 5.8125 \r\nL 52.15625 -0.6875 \r\nQ 50.34375 -1.3125 48.484375 -1.609375 \r\nQ 46.578125 -1.90625 44.78125 -1.90625 \r\nQ 38.921875 -1.90625 37.3125 1.265625 \r\nQ 35.6875 4.5 37.359375 13.09375 \r\nL 43.703125 45.703125 \r\nL 23.53125 45.703125 \r\nL 14.65625 0 \r\nL 5.46875 0 \r\nL 14.359375 45.703125 \r\nL 7.375 45.703125 \r\nz\r\n\" id=\"DejaVuSans-Oblique-960\"/>\r\n       <path d=\"M 25.390625 72.90625 \r\nL 33.6875 72.90625 \r\nL 8.296875 -9.28125 \r\nL 0 -9.28125 \r\nz\r\n\" id=\"DejaVuSans-47\"/>\r\n       <path d=\"M 19.1875 8.296875 \r\nL 53.609375 8.296875 \r\nL 53.609375 0 \r\nL 7.328125 0 \r\nL 7.328125 8.296875 \r\nQ 12.9375 14.109375 22.625 23.890625 \r\nQ 32.328125 33.6875 34.8125 36.53125 \r\nQ 39.546875 41.84375 41.421875 45.53125 \r\nQ 43.3125 49.21875 43.3125 52.78125 \r\nQ 43.3125 58.59375 39.234375 62.25 \r\nQ 35.15625 65.921875 28.609375 65.921875 \r\nQ 23.96875 65.921875 18.8125 64.3125 \r\nQ 13.671875 62.703125 7.8125 59.421875 \r\nL 7.8125 69.390625 \r\nQ 13.765625 71.78125 18.9375 73 \r\nQ 24.125 74.21875 28.421875 74.21875 \r\nQ 39.75 74.21875 46.484375 68.546875 \r\nQ 53.21875 62.890625 53.21875 53.421875 \r\nQ 53.21875 48.921875 51.53125 44.890625 \r\nQ 49.859375 40.875 45.40625 35.40625 \r\nQ 44.1875 33.984375 37.640625 27.21875 \r\nQ 31.109375 20.453125 19.1875 8.296875 \r\nz\r\n\" id=\"DejaVuSans-50\"/>\r\n       <path d=\"M 8.015625 75.875 \r\nL 15.828125 75.875 \r\nQ 23.140625 64.359375 26.78125 53.3125 \r\nQ 30.421875 42.28125 30.421875 31.390625 \r\nQ 30.421875 20.453125 26.78125 9.375 \r\nQ 23.140625 -1.703125 15.828125 -13.1875 \r\nL 8.015625 -13.1875 \r\nQ 14.5 -2 17.703125 9.0625 \r\nQ 20.90625 20.125 20.90625 31.390625 \r\nQ 20.90625 42.671875 17.703125 53.65625 \r\nQ 14.5 64.65625 8.015625 75.875 \r\nz\r\n\" id=\"DejaVuSans-41\"/>\r\n      </defs>\r\n      <use transform=\"translate(0 0.125)\" xlink:href=\"#DejaVuSans-80\"/>\r\n      <use transform=\"translate(60.302734 0.125)\" xlink:href=\"#DejaVuSans-32\"/>\r\n      <use transform=\"translate(92.089844 0.125)\" xlink:href=\"#DejaVuSans-40\"/>\r\n      <use transform=\"translate(131.103516 0.125)\" xlink:href=\"#DejaVuSans-Oblique-960\"/>\r\n      <use transform=\"translate(191.308594 0.125)\" xlink:href=\"#DejaVuSans-47\"/>\r\n      <use transform=\"translate(221.375 0.125)\" xlink:href=\"#DejaVuSans-50\"/>\r\n      <use transform=\"translate(284.998047 0.125)\" xlink:href=\"#DejaVuSans-41\"/>\r\n     </g>\r\n    </g>\r\n   </g>\r\n   <g id=\"text_5\">\r\n    <g clip-path=\"url(#pacf91251e0)\">\r\n     <!-- H -->\r\n     <g transform=\"translate(219.389406 92.598986)scale(0.13 -0.13)\">\r\n      <use xlink:href=\"#DejaVuSans-72\"/>\r\n     </g>\r\n    </g>\r\n   </g>\r\n  </g>\r\n </g>\r\n <defs>\r\n  <clipPath id=\"pacf91251e0\">\r\n   <rect height=\"109.082399\" width=\"292.526268\" x=\"7.2\" y=\"7.2\"/>\r\n  </clipPath>\r\n </defs>\r\n</svg>\r\n",
      "text/plain": [
       "<Figure size 387.452x144.48 with 1 Axes>"
      ]
     },
     "execution_count": 9,
     "metadata": {},
     "output_type": "execute_result"
    }
   ],
   "source": [
    "pi = np.pi\n",
    "\n",
    "def QFT(n,swap = True, draw = False):\n",
    "    \"\"\" A function to generate the QFT circuit\"\"\"\n",
    "\n",
    "    qc = QuantumCircuit(n)\n",
    "\n",
    "    # First qubit\n",
    "    for i in range(n):\n",
    "        # print(i)\n",
    "        qc.h(i)\n",
    "        l = 2\n",
    "        for j in range(n-1,i,-1):\n",
    "            \n",
    "            theta = 2*pi/(2**(l))\n",
    "            qc.cp(theta,j,i)\n",
    "            l += 1\n",
    "\n",
    "    qc.barrier()\n",
    "\n",
    "    if swap: # Order of qubits needs to be reversed \n",
    "        for k in range(int((n- n%2)/2)): \n",
    "            qc.swap(k,int(n-1 - k))\n",
    "    if draw:\n",
    "        return  qc.draw()\n",
    "\n",
    "    return qc\n",
    "\n",
    "QFT(n= 2,swap = False, draw= True)"
   ]
  },
  {
   "cell_type": "code",
   "execution_count": 6,
   "metadata": {},
   "outputs": [
    {
     "data": {
      "text/html": [
       "<h3>Version Information</h3><table><tr><th>Qiskit Software</th><th>Version</th></tr><tr><td><code>qiskit-terra</code></td><td>0.21.2</td></tr><tr><td><code>qiskit-aer</code></td><td>0.11.0</td></tr><tr><td><code>qiskit-ignis</code></td><td>0.6.0</td></tr><tr><td><code>qiskit-ibmq-provider</code></td><td>0.19.2</td></tr><tr><td><code>qiskit</code></td><td>0.38.0</td></tr><tr><th>System information</th></tr><tr><td>Python version</td><td>3.8.5</td></tr><tr><td>Python compiler</td><td>MSC v.1916 64 bit (AMD64)</td></tr><tr><td>Python build</td><td>default, Sep  3 2020 21:29:08</td></tr><tr><td>OS</td><td>Windows</td></tr><tr><td>CPUs</td><td>6</td></tr><tr><td>Memory (Gb)</td><td>15.927314758300781</td></tr><tr><td colspan='2'>Sun Sep 25 10:15:17 2022 GMT Summer Time</td></tr></table>"
      ],
      "text/plain": [
       "<IPython.core.display.HTML object>"
      ]
     },
     "metadata": {},
     "output_type": "display_data"
    }
   ],
   "source": [
    "%qiskit_version_table"
   ]
  }
 ],
 "metadata": {
  "kernelspec": {
   "display_name": "Python 3.8.5 ('base')",
   "language": "python",
   "name": "python3"
  },
  "language_info": {
   "codemirror_mode": {
    "name": "ipython",
    "version": 3
   },
   "file_extension": ".py",
   "mimetype": "text/x-python",
   "name": "python",
   "nbconvert_exporter": "python",
   "pygments_lexer": "ipython3",
   "version": "3.8.5"
  },
  "orig_nbformat": 4,
  "vscode": {
   "interpreter": {
    "hash": "ad2bdc8ecc057115af97d19610ffacc2b4e99fae6737bb82f5d7fb13d2f2c186"
   }
  }
 },
 "nbformat": 4,
 "nbformat_minor": 2
}
