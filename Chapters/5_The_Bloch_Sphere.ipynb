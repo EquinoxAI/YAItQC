{
 "cells": [
  {
   "cell_type": "markdown",
   "metadata": {},
   "source": [
    "# 5 The Bloch Sphere \n",
    "\n",
    "Dirac notation is really useful for doing algebra with quantum states. It is easy to add, subtract and multpiply wavefunctions and calulate probabilities with the inner product. One limitation of Dirac notation is that it is difficult to visualise quantum states as it does not have a diagram to represent the wavefunction on. "
   ]
  }
 ],
 "metadata": {
  "language_info": {
   "name": "python"
  },
  "orig_nbformat": 4
 },
 "nbformat": 4,
 "nbformat_minor": 2
}
