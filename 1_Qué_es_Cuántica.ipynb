{
 "cells": [
  {
   "cell_type": "markdown",
   "metadata": {},
   "source": [
    "# Yet Another Introduction to Quantum Computing\n",
    "\n",
    "\n",
    "This jupyter book (to be compliled) is a collection of notebooks introducing the funadmentals of quantum computation, including a preliminary introduction to quantum mechanics assuming an elementary background in mathematics. \n",
    "\n",
    "## 1. What is Quantum?\n",
    "\n",
    "### 1.1 That thing with the cats?\n",
    "\n",
    "In popular culture there exist many rather romanticised depictions of quantum technologies, particularly in the genre of science fiction. These are very widely innacurate and the many misconceptions widely held by the public about what quantum mechanics allows and this is especially true of quantum computation. \n",
    "\n",
    "### 1.2 How many physicists does it take to change a lightbulb?\n",
    "\n",
    "In the early 20th century, a German physicist (by the cool name of Max Planck) was tasked with modelling the emission of light from a filament bulb (basically a wire that gets hot enough to glow). He came up with what is known as the black body radiation spectrum. You may be wondering why such trivia has been included in a textbook about quantum computing. It turns out, from his model, the energy emitted by an object with a finite temperature is not emitted in a continuous spectrum. That's to say rather than all possible wavelengths of light being emitted by this bulb only certain wavelengths were allowed. This is known as a discrete spectrum. What this in turn means is that energy is emitted is chunks, or *quanta*, with a well defined energy. We can't have energy between these chunks. It's a bit like walking up the stairs; you can only step on specific heights and you can't really leave your foot suspended between steps for too long. \n",
    "\n",
    "This concept of quantisation of energy is where the quantum comes from. Whilst this concept is less significant to quantum computing, it is still worth mentioning. The reason for this is that the transistor that powers all digital electronics is built upon this concept. Thus all computations using this technology (the integrated circuit) are computers running on quantum mechanics. Which is not to say they are quantum computers simply that they are fundamentally built upon quantum physics, as are you, I and everything we can see and touch. \n",
    "\n",
    "Beyond the quantisation of energy, there are quantum phenomena which are very much more significant to quantum computing: superposition & entanglement. \n",
    "\n",
    "### 1.3 So what happened to that cat?\n",
    "\n",
    "You may have heard of a very special cat associated with another German physicist, Schrodinger. Schrodinger came up with this analogy to explain why quantum mechanics was so controversial for physicists that had been able to do very well with classical physics until the turn of the 20th century. \n",
    "\n",
    "\n",
    "\n",
    "### 1.4 Not so spooky action at a distance\n",
    "\n",
    "\n",
    "### 1.5 Quantum Technology \n",
    "\n",
    "\n",
    "### 1.6 The quantum theory of information \n",
    "\n",
    "\n",
    "### 1.7 Quantum Machine Learning \n"
   ]
  }
 ],
 "metadata": {
  "language_info": {
   "name": "python"
  },
  "orig_nbformat": 4
 },
 "nbformat": 4,
 "nbformat_minor": 2
}
